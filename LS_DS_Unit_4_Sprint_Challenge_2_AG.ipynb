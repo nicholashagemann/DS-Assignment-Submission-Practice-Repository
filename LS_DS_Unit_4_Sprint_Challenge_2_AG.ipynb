{
  "nbformat": 4,
  "nbformat_minor": 0,
  "metadata": {
    "kernelspec": {
      "display_name": "Python 3",
      "language": "python",
      "name": "python3"
    },
    "language_info": {
      "codemirror_mode": {
        "name": "ipython",
        "version": 3
      },
      "file_extension": ".py",
      "mimetype": "text/x-python",
      "name": "python",
      "nbconvert_exporter": "python",
      "pygments_lexer": "ipython3",
      "version": "3.8.5"
    },
    "colab": {
      "name": "LS_DS_Unit_4_Sprint_Challenge_2_AG.ipynb",
      "provenance": [],
      "include_colab_link": true
    },
    "accelerator": "GPU"
  },
  "cells": [
    {
      "cell_type": "markdown",
      "metadata": {
        "id": "view-in-github",
        "colab_type": "text"
      },
      "source": [
        "<a href=\"https://colab.research.google.com/github/nicholashagemann/DS-Assignment-Submission-Practice-Repository/blob/master/LS_DS_Unit_4_Sprint_Challenge_2_AG.ipynb\" target=\"_parent\"><img src=\"https://colab.research.google.com/assets/colab-badge.svg\" alt=\"Open In Colab\"/></a>"
      ]
    },
    {
      "cell_type": "markdown",
      "metadata": {
        "id": "ZxjXKaGb56-M"
      },
      "source": [
        "\n",
        "## Autograded Notebook (Canvas & CodeGrade)\n",
        "\n",
        "This notebook will be automatically graded. It is designed to test your answers and award points for the correct answers. Following the instructions for each Task carefully.\n",
        "Instructions\n",
        "\n",
        "- **Download** this notebook as you would any other ipynb file \n",
        "- **Upload** to Google Colab or work locally (if you have that set-up)\n",
        "- **Delete** `raise NotImplementedError()`\n",
        "\n",
        "- **Write** your code in the `# YOUR CODE HERE` space\n",
        "\n",
        "\n",
        "- **Execute** the Test cells that contain assert statements - these help you check your work (others contain hidden tests that will be checked when you submit through Canvas)\n",
        "\n",
        "- **Save** your notebook when you are finished\n",
        "- **Download** as a ipynb file (if working in Colab)\n",
        "- **Upload** your complete notebook to Canvas (there will be additional instructions in Slack and/or Canvas)\n",
        "\n"
      ]
    },
    {
      "cell_type": "markdown",
      "metadata": {
        "id": "O2pIUxia56-Q"
      },
      "source": [
        "\n",
        "## *Data Science Unit 4 Sprint 2*\n",
        "\n",
        "# Sprint Challenge - Neural Network Foundations\n",
        "\n",
        "Table of Problems\n",
        "\n",
        "1. [Defining Neural Networks](#Q1)\n",
        "2. [Simple Perceptron](#Q2)\n",
        "    - Perceptron\n",
        "    - Multilayer Perceptron (i.e. Neural Network)\n",
        "    - Analyze and Compare\n",
        "4. [Keras MMP](#Q3)\n",
        "\n",
        "\n",
        "____\n",
        "\n",
        "# Before you submit your notebook you must first\n",
        "\n",
        "1) Restart your notebook's Kernel\n",
        "\n",
        "2) Run all cells sequentially, from top to bottom, so that cell numbers are sequential numbers (i.e. 1,2,3,4,5...)\n",
        "- Easiest way to do this is to click on the **Cell** tab at the top of your notebook and select **Run All** from the drop down menu. \n",
        "\n",
        "____"
      ]
    },
    {
      "cell_type": "markdown",
      "metadata": {
        "deletable": false,
        "editable": false,
        "nbgrader": {
          "cell_type": "markdown",
          "checksum": "a2d017ba3200be3890c0b67eda283c48",
          "grade": false,
          "grade_id": "cell-621a8b86bacf295a",
          "locked": true,
          "points": 0,
          "schema_version": 3,
          "solution": false,
          "task": true
        },
        "id": "Obzjkb_v56-R"
      },
      "source": [
        "<a id=\"Q1\"></a>\n",
        "## 1. Defining Neural Networks \n",
        "\n",
        "Write *your own* definitions for the following terms:\n",
        "\n",
        "- **Neuron:** \n",
        "\n",
        "- **Input Layer:** \n",
        "\n",
        "- **Hidden Layer:** \n",
        "\n",
        "- **Output Layer:**\n",
        "\n",
        "- **Activation:** "
      ]
    },
    {
      "cell_type": "markdown",
      "metadata": {
        "deletable": false,
        "nbgrader": {
          "cell_type": "markdown",
          "checksum": "7233c31461609b21a7fc2651afb12632",
          "grade": true,
          "grade_id": "cell-6adae65226f09553",
          "locked": false,
          "points": 0,
          "schema_version": 3,
          "solution": true,
          "task": false
        },
        "id": "Vx0sycHC56-S"
      },
      "source": [
        "1. Neurons are the type of cells that make up our brains, and brains generally. They are responsible for receiving and sending signals, creating chains of propagating information. Since neurons are the mechanism behind our thoughts, a neural net seeks to emulate that network onto a machine, hopefully resulting in machine learning. \n",
        "\n",
        "2. An input layer in a neural network is akin to sensory neurons in the brain. These neurons are the primary source for outside information, which they relay to the rest of the neurons in the network. In neural nets, there are no activation functions in this first layer as it is merely responsible for relaying the sensory information (data) to the first hidden layer.\n",
        "\n",
        "3. The hidden layers in a neural network are akin to the vast array of neurons that signals pass through in our brains before reaching the final output layer which sends a motor signal. In neural nets, these layers are responsible for processing and transforming the information from the previous layer, with each layer iterating upon the previous layer's attempt at classification or regression.\n",
        "\n",
        "4. The output layer in a neural network is akin to the motor neurons in the brain, which is the final layer of neurons responsible for sending signals to the rest of the body. For neural networks this is the layer which will spit out the final analysis of the data: for a classification problem, there will be a number of nodes corresponding to the number of classes and the node with the highest probability of being activated will be the determined class; for a regression problem, there will be one output node which will return the model's guess. \n",
        "\n",
        "5. In actual neurons, activations is accomplished by the creation of a sufficiently large ionic gradient to cause hyperpolarization within the neuron and cause it to fire. For neural networks, we model this by using different mathematical functions to determine whether the neuron 'fires' or not. Whether or not this occurs depends on the information the neuron has received, as well as the weights and biases in the model (which is why we use backpropagation to get the weights and biases that result in the smallest loss function). These functions are responsible for the information the next layer receives. "
      ]
    },
    {
      "cell_type": "markdown",
      "metadata": {
        "deletable": false,
        "editable": false,
        "nbgrader": {
          "cell_type": "markdown",
          "checksum": "10aa095d3db59bfe47f9823cfd62f1ef",
          "grade": false,
          "grade_id": "cell-d64f1de9e9458dc7",
          "locked": true,
          "points": 0,
          "schema_version": 3,
          "solution": false,
          "task": true
        },
        "id": "pJ9wxAuU56-T"
      },
      "source": [
        "- `Explain` how Back-propagation works \n",
        "- `Explain` how Gradient Descent works (mention the learning rate)\n",
        "- `Explain` how Back-propagation and Gradient Descent are related   \n",
        "\n",
        "Use your own words, but feel free to reference external materials for this question. "
      ]
    },
    {
      "cell_type": "markdown",
      "metadata": {
        "deletable": false,
        "nbgrader": {
          "cell_type": "markdown",
          "checksum": "ceb3f64a4b1b18346decf75c8f5567d2",
          "grade": true,
          "grade_id": "cell-cef20b23d4e0b056",
          "locked": false,
          "points": 0,
          "schema_version": 3,
          "solution": true,
          "task": false
        },
        "id": "t2CsOhuO56-T"
      },
      "source": [
        "1. Backpropagation is essentially multiple iterations over the same neural networks while changing the weights for each neuron and bias for each layer. This change occurs through Gradient Descent, which functions by taking the gradient of the loss function of the final output and subtracting it from the initial weights and bias to find the new weights and bias. It must be subtracted because we want to move down the gradient in order to find the minimum of the loss function, which will give us the model its greatest accuracy. We can make several adjustments to the gradient descent, like giving it momentum so it is less likely to get stuck in a local minimum (the momentum would carry it out of the 'hole' of the local minimum and over the 'hill' to hopefully find the global minimum), or regularizing it so it doesn't overfit to the training data and will thus be more accurate for new data. "
      ]
    },
    {
      "cell_type": "markdown",
      "metadata": {
        "deletable": false,
        "editable": false,
        "nbgrader": {
          "cell_type": "markdown",
          "checksum": "e040f3ddce6eb34b017f0eb685b202e6",
          "grade": false,
          "grade_id": "cell-e013d19857352d79",
          "locked": true,
          "points": 0,
          "schema_version": 3,
          "solution": false,
          "task": true
        },
        "id": "A6eYoklY56-U"
      },
      "source": [
        "Remember our Simple Perceptron Class from Monday. \n",
        "\n",
        "- Describe the process of making a prediction, i.e. how do you go from inputs to outputs?"
      ]
    },
    {
      "cell_type": "markdown",
      "metadata": {
        "deletable": false,
        "nbgrader": {
          "cell_type": "markdown",
          "checksum": "d746de6391012340f8548821850a621c",
          "grade": true,
          "grade_id": "cell-53c7cc36db9d7983",
          "locked": false,
          "points": 0,
          "schema_version": 3,
          "solution": true,
          "task": false
        },
        "id": "Vt6DHAnX56-V"
      },
      "source": [
        "Our inputs are the training data, which send that information to the first hidden layer. The first hidden layer transforms the data by calculating the dot product of the weights and the data, and adds a bias term. The result is then given to an activation function like the sigmoid function - for the sigmoid function, if the result is positive the function will predict a 1, and if the result is negative it will predict a 0, assuming the threshold is set to 0.5. This information is then sent to the next hidden layer, which performs the same operation, using a different set of weights and biases. Eventually the signal will reach the output layer, where the activation is ideally changed to a softmax function to give normalized exponential probabilities of each class (assuming it's a classification problem)."
      ]
    },
    {
      "cell_type": "markdown",
      "metadata": {
        "id": "bYqTpKut56-X"
      },
      "source": [
        "<a id=\"Q2\"></a>\n",
        "## 2. Simple Perceptron\n",
        "\n",
        "In this question, you will build two neural networks using `Keras`. After you build these two models, compare the results of the model."
      ]
    },
    {
      "cell_type": "code",
      "metadata": {
        "id": "dJLDuGro56-Y"
      },
      "source": [
        "\"\"\"\n",
        "Our Dataset\n",
        "\"\"\"\n",
        "import numpy as np\n",
        "\n",
        "\n",
        "rng = np.random.RandomState(0)\n",
        "\n",
        "\"Use this X & y in the following 2 models\"\n",
        "X = rng.randn(300, 2)\n",
        "y = np.array(np.logical_xor(X[:, 0] > 0, X[:, 1] > 0), \n",
        "             dtype=int)"
      ],
      "execution_count": 93,
      "outputs": []
    },
    {
      "cell_type": "code",
      "metadata": {
        "colab": {
          "base_uri": "https://localhost:8080/"
        },
        "id": "pU6HqJw856-a",
        "outputId": "dbed0807-9e03-46af-8ac1-7876e91be0eb"
      },
      "source": [
        "X.shape"
      ],
      "execution_count": 94,
      "outputs": [
        {
          "output_type": "execute_result",
          "data": {
            "text/plain": [
              "(300, 2)"
            ]
          },
          "metadata": {},
          "execution_count": 94
        }
      ]
    },
    {
      "cell_type": "code",
      "metadata": {
        "colab": {
          "base_uri": "https://localhost:8080/"
        },
        "id": "uj2CYLks56-b",
        "outputId": "f028a98a-846f-464e-fe7b-f87c279c2921"
      },
      "source": [
        "y"
      ],
      "execution_count": 95,
      "outputs": [
        {
          "output_type": "execute_result",
          "data": {
            "text/plain": [
              "array([0, 0, 1, 1, 1, 0, 0, 0, 1, 1, 1, 1, 1, 1, 0, 0, 0, 1, 0, 0, 0, 1,\n",
              "       0, 1, 0, 1, 0, 1, 0, 0, 0, 0, 1, 1, 1, 0, 1, 1, 0, 1, 1, 1, 0, 1,\n",
              "       1, 1, 0, 0, 0, 0, 1, 1, 1, 0, 0, 0, 1, 1, 1, 0, 1, 0, 0, 1, 0, 1,\n",
              "       1, 1, 1, 1, 1, 0, 0, 1, 0, 1, 0, 0, 1, 0, 1, 0, 1, 0, 0, 0, 1, 1,\n",
              "       0, 1, 0, 0, 1, 1, 1, 1, 0, 1, 0, 0, 0, 0, 1, 0, 1, 0, 1, 0, 1, 1,\n",
              "       0, 1, 1, 0, 0, 0, 1, 1, 1, 0, 0, 0, 0, 0, 0, 1, 1, 0, 0, 1, 0, 0,\n",
              "       1, 0, 1, 1, 0, 0, 1, 1, 1, 1, 0, 1, 0, 0, 1, 1, 0, 1, 1, 0, 1, 0,\n",
              "       1, 1, 0, 1, 0, 0, 0, 1, 0, 1, 1, 1, 1, 1, 1, 1, 1, 0, 0, 1, 0, 0,\n",
              "       1, 0, 0, 1, 0, 0, 1, 0, 0, 1, 1, 0, 1, 1, 1, 0, 1, 0, 0, 1, 0, 0,\n",
              "       0, 0, 0, 0, 1, 0, 0, 1, 0, 0, 0, 0, 0, 1, 1, 1, 1, 0, 0, 1, 0, 0,\n",
              "       0, 1, 1, 1, 0, 1, 0, 0, 0, 1, 0, 1, 1, 0, 1, 0, 0, 0, 1, 0, 0, 0,\n",
              "       1, 0, 1, 0, 0, 1, 0, 0, 1, 1, 0, 0, 1, 0, 0, 1, 0, 0, 0, 0, 1, 0,\n",
              "       1, 1, 0, 0, 0, 0, 1, 1, 0, 1, 1, 0, 1, 1, 1, 0, 1, 1, 1, 0, 0, 1,\n",
              "       0, 1, 0, 1, 0, 1, 0, 1, 0, 0, 0, 0, 0, 0])"
            ]
          },
          "metadata": {},
          "execution_count": 95
        }
      ]
    },
    {
      "cell_type": "code",
      "metadata": {
        "colab": {
          "base_uri": "https://localhost:8080/"
        },
        "id": "LCAU_QYg56-c",
        "outputId": "0fb7f546-ee8e-42e9-c515-c58b3798296b"
      },
      "source": [
        "2**2"
      ],
      "execution_count": 96,
      "outputs": [
        {
          "output_type": "execute_result",
          "data": {
            "text/plain": [
              "4"
            ]
          },
          "metadata": {},
          "execution_count": 96
        }
      ]
    },
    {
      "cell_type": "code",
      "metadata": {
        "colab": {
          "base_uri": "https://localhost:8080/"
        },
        "id": "abDlP-3m56-d",
        "outputId": "7ef2ea3e-72f3-4bc5-c766-d095da673d71"
      },
      "source": [
        "4**4"
      ],
      "execution_count": 97,
      "outputs": [
        {
          "output_type": "execute_result",
          "data": {
            "text/plain": [
              "256"
            ]
          },
          "metadata": {},
          "execution_count": 97
        }
      ]
    },
    {
      "cell_type": "markdown",
      "metadata": {
        "id": "ZWdnJMH456-r"
      },
      "source": [
        "This word is speled wrong. "
      ]
    },
    {
      "cell_type": "markdown",
      "metadata": {
        "id": "zPv4_qqN56-s"
      },
      "source": [
        "### Simple Perceptron\n",
        "Construct a simple perceptron using Keras. \n",
        "\n",
        "Make sure to include the following in your model:\n",
        "- Add `1 dense layer` with a `single neuron` \n",
        "- Use a `sigmoid activation function`\n",
        "- Set `epochs` to 10 \n",
        "- Use the version of `crossentropy loss` that is appropriate for this data.\n",
        "\n",
        "Your model should be called `model1` and make sure to save the results of your fit statement to a variable called `h1`. \n"
      ]
    },
    {
      "cell_type": "code",
      "metadata": {
        "deletable": false,
        "nbgrader": {
          "cell_type": "code",
          "checksum": "67e9f7297eb22a79437494d713d74b71",
          "grade": false,
          "grade_id": "cell-427690628f9c900b",
          "locked": false,
          "schema_version": 3,
          "solution": true,
          "task": false
        },
        "colab": {
          "base_uri": "https://localhost:8080/"
        },
        "id": "Qcq3eeFe56-t",
        "outputId": "6deebb2e-d8e3-480f-a7b7-6448596c2739"
      },
      "source": [
        "import tensorflow\n",
        "from tensorflow.keras.models import Sequential\n",
        "from tensorflow.keras.layers import Dense\n",
        "\n",
        "# build and fit model\n",
        "\n",
        "# YOUR CODE HERE\n",
        "# create a sequential model with no hidden layers and a single binary output layer\n",
        "model1 = Sequential()\n",
        "\n",
        "model1.add(Dense(1, activation='sigmoid', input_dim = 2))\n",
        "\n",
        "model1.compile(optimizer='adam', loss='binary_crossentropy', metrics=['accuracy'])\n",
        "\n",
        "# run the model on the test data with 10 epochs and a 20% validation split\n",
        "h1 = model1.fit(X, y, epochs=10, validation_split=0.2, verbose=True)"
      ],
      "execution_count": 98,
      "outputs": [
        {
          "output_type": "stream",
          "name": "stdout",
          "text": [
            "Epoch 1/10\n",
            "8/8 [==============================] - 0s 18ms/step - loss: 0.6946 - accuracy: 0.5833 - val_loss: 0.7477 - val_accuracy: 0.5000\n",
            "Epoch 2/10\n",
            "8/8 [==============================] - 0s 4ms/step - loss: 0.6940 - accuracy: 0.5833 - val_loss: 0.7469 - val_accuracy: 0.5167\n",
            "Epoch 3/10\n",
            "8/8 [==============================] - 0s 6ms/step - loss: 0.6937 - accuracy: 0.5833 - val_loss: 0.7463 - val_accuracy: 0.5000\n",
            "Epoch 4/10\n",
            "8/8 [==============================] - 0s 5ms/step - loss: 0.6933 - accuracy: 0.5917 - val_loss: 0.7456 - val_accuracy: 0.5000\n",
            "Epoch 5/10\n",
            "8/8 [==============================] - 0s 4ms/step - loss: 0.6930 - accuracy: 0.5958 - val_loss: 0.7451 - val_accuracy: 0.5167\n",
            "Epoch 6/10\n",
            "8/8 [==============================] - 0s 6ms/step - loss: 0.6926 - accuracy: 0.5958 - val_loss: 0.7442 - val_accuracy: 0.5167\n",
            "Epoch 7/10\n",
            "8/8 [==============================] - 0s 4ms/step - loss: 0.6922 - accuracy: 0.5958 - val_loss: 0.7436 - val_accuracy: 0.5167\n",
            "Epoch 8/10\n",
            "8/8 [==============================] - 0s 4ms/step - loss: 0.6919 - accuracy: 0.5958 - val_loss: 0.7429 - val_accuracy: 0.5167\n",
            "Epoch 9/10\n",
            "8/8 [==============================] - 0s 4ms/step - loss: 0.6915 - accuracy: 0.5958 - val_loss: 0.7423 - val_accuracy: 0.5167\n",
            "Epoch 10/10\n",
            "8/8 [==============================] - 0s 4ms/step - loss: 0.6913 - accuracy: 0.5917 - val_loss: 0.7416 - val_accuracy: 0.5167\n"
          ]
        }
      ]
    },
    {
      "cell_type": "code",
      "metadata": {
        "deletable": false,
        "editable": false,
        "nbgrader": {
          "cell_type": "code",
          "checksum": "36f7f830036d0443ca8e8ba0f17b2a4e",
          "grade": true,
          "grade_id": "cell-bf2ae566afacde8c",
          "locked": true,
          "points": 1,
          "schema_version": 3,
          "solution": false,
          "task": false
        },
        "id": "SmXKJ44o56-y"
      },
      "source": [
        "# Visible test\n",
        "assert len(model1.get_config()[\"layers\"]) == 2, \"Make sure you only create 1 Dense layer.\"\n",
        "assert len(h1.epoch) <=10, \"Did you make sure to set epochs to 10 or less?\""
      ],
      "execution_count": 99,
      "outputs": []
    },
    {
      "cell_type": "code",
      "metadata": {
        "colab": {
          "base_uri": "https://localhost:8080/"
        },
        "id": "xOarToJZ56-z",
        "outputId": "85566acf-06bb-4a2c-d385-2a1c8ebf5eb5"
      },
      "source": [
        "model1.get_config()[\"layers\"]"
      ],
      "execution_count": 100,
      "outputs": [
        {
          "output_type": "execute_result",
          "data": {
            "text/plain": [
              "[{'class_name': 'InputLayer',\n",
              "  'config': {'batch_input_shape': (None, 2),\n",
              "   'dtype': 'float32',\n",
              "   'name': 'dense_64_input',\n",
              "   'ragged': False,\n",
              "   'sparse': False}},\n",
              " {'class_name': 'Dense',\n",
              "  'config': {'activation': 'sigmoid',\n",
              "   'activity_regularizer': None,\n",
              "   'batch_input_shape': (None, 2),\n",
              "   'bias_constraint': None,\n",
              "   'bias_initializer': {'class_name': 'Zeros', 'config': {}},\n",
              "   'bias_regularizer': None,\n",
              "   'dtype': 'float32',\n",
              "   'kernel_constraint': None,\n",
              "   'kernel_initializer': {'class_name': 'GlorotUniform',\n",
              "    'config': {'seed': None}},\n",
              "   'kernel_regularizer': None,\n",
              "   'name': 'dense_64',\n",
              "   'trainable': True,\n",
              "   'units': 1,\n",
              "   'use_bias': True}}]"
            ]
          },
          "metadata": {},
          "execution_count": 100
        }
      ]
    },
    {
      "cell_type": "code",
      "metadata": {
        "deletable": false,
        "editable": false,
        "nbgrader": {
          "cell_type": "code",
          "checksum": "95d3ee2935a0de64f2a5a22460520e69",
          "grade": true,
          "grade_id": "cell-a957e14380b2f508",
          "locked": true,
          "points": 1,
          "schema_version": 3,
          "solution": false,
          "task": false
        },
        "id": "Tod_fgMm56-z"
      },
      "source": [
        "# Hidden tests - you will see the results when you submit to Canvas"
      ],
      "execution_count": 101,
      "outputs": []
    },
    {
      "cell_type": "markdown",
      "metadata": {
        "id": "AGpoTyEe56-z"
      },
      "source": [
        "### Multi-Layer Perceptron\n",
        "Now construct a multi-layer perceptron model (also known as a neural network). \n",
        "\n",
        "Your neural network `must` have: \n",
        "- `2` Hidden Layers\n",
        "- Select any number between `5-32` for the number of neurons in each hidden layers\n",
        "- Your pick of activation function and optimizer\n",
        "- Incorporate the `Callback function` below into your model\n",
        "- Set epochs to `100`\n",
        "- Your model should be called `model2` \n",
        "- Save the results of your fit statement to a variable called `h2`. \n",
        "- Use the version of `crossentropy loss` that is appropriate for this data."
      ]
    },
    {
      "cell_type": "code",
      "metadata": {
        "id": "dqF2OKnY56-0"
      },
      "source": [
        "import tensorflow as tf\n",
        "\n",
        "class myCallback(tf.keras.callbacks.Callback): \n",
        "    def on_epoch_end(self, epoch, logs={}): \n",
        "        # if model reaches 99% accuracy, training is terminated \n",
        "        acc_threshold = 0.99\n",
        "        if(logs.get('accuracy') > acc_threshold):   \n",
        "            self.model.stop_training = True\n",
        "            self.model.callback_used = True"
      ],
      "execution_count": 102,
      "outputs": []
    },
    {
      "cell_type": "code",
      "metadata": {
        "deletable": false,
        "nbgrader": {
          "cell_type": "code",
          "checksum": "314337f29c8cd7f38224a31687a86b12",
          "grade": false,
          "grade_id": "cell-77523c4c64743f16",
          "locked": false,
          "schema_version": 3,
          "solution": true,
          "task": false
        },
        "colab": {
          "base_uri": "https://localhost:8080/"
        },
        "id": "JaNE2yXX56-0",
        "outputId": "c3280d81-a0bd-4ef8-ef7e-bc0cdb8dfc17"
      },
      "source": [
        "# build and fit model\n",
        "\n",
        "# make a new model with 2 hidden layers each with 7 neurons and using relu as the activation function\n",
        "model2 = Sequential()\n",
        "\n",
        "model2.add(Dense(7, activation='relu', input_dim = 2))\n",
        "\n",
        "model2.add(Dense(7, activation='relu'))\n",
        "\n",
        "model2.add(Dense(1, activation='sigmoid'))\n",
        "\n",
        "model2.compile(optimizer='adam', loss='binary_crossentropy', metrics=['accuracy'])\n",
        "\n",
        "# run the model on 100 epochs with the callback included\n",
        "h2 = model2.fit(X, y, epochs=100, validation_split=0.2, verbose=True, callbacks=myCallback())"
      ],
      "execution_count": 103,
      "outputs": [
        {
          "output_type": "stream",
          "name": "stdout",
          "text": [
            "Epoch 1/100\n",
            "8/8 [==============================] - 1s 21ms/step - loss: 0.7006 - accuracy: 0.7375 - val_loss: 0.7001 - val_accuracy: 0.7667\n",
            "Epoch 2/100\n",
            "8/8 [==============================] - 0s 5ms/step - loss: 0.6918 - accuracy: 0.7500 - val_loss: 0.6919 - val_accuracy: 0.7667\n",
            "Epoch 3/100\n",
            "8/8 [==============================] - 0s 5ms/step - loss: 0.6838 - accuracy: 0.7500 - val_loss: 0.6847 - val_accuracy: 0.7667\n",
            "Epoch 4/100\n",
            "8/8 [==============================] - 0s 5ms/step - loss: 0.6760 - accuracy: 0.7500 - val_loss: 0.6791 - val_accuracy: 0.7667\n",
            "Epoch 5/100\n",
            "8/8 [==============================] - 0s 5ms/step - loss: 0.6700 - accuracy: 0.7500 - val_loss: 0.6746 - val_accuracy: 0.7500\n",
            "Epoch 6/100\n",
            "8/8 [==============================] - 0s 6ms/step - loss: 0.6640 - accuracy: 0.7458 - val_loss: 0.6699 - val_accuracy: 0.7500\n",
            "Epoch 7/100\n",
            "8/8 [==============================] - 0s 5ms/step - loss: 0.6588 - accuracy: 0.7417 - val_loss: 0.6649 - val_accuracy: 0.7667\n",
            "Epoch 8/100\n",
            "8/8 [==============================] - 0s 5ms/step - loss: 0.6532 - accuracy: 0.7458 - val_loss: 0.6608 - val_accuracy: 0.7667\n",
            "Epoch 9/100\n",
            "8/8 [==============================] - 0s 9ms/step - loss: 0.6481 - accuracy: 0.7375 - val_loss: 0.6566 - val_accuracy: 0.7667\n",
            "Epoch 10/100\n",
            "8/8 [==============================] - 0s 6ms/step - loss: 0.6428 - accuracy: 0.7375 - val_loss: 0.6515 - val_accuracy: 0.7500\n",
            "Epoch 11/100\n",
            "8/8 [==============================] - 0s 6ms/step - loss: 0.6371 - accuracy: 0.7500 - val_loss: 0.6474 - val_accuracy: 0.7500\n",
            "Epoch 12/100\n",
            "8/8 [==============================] - 0s 5ms/step - loss: 0.6318 - accuracy: 0.7458 - val_loss: 0.6430 - val_accuracy: 0.7667\n",
            "Epoch 13/100\n",
            "8/8 [==============================] - 0s 7ms/step - loss: 0.6262 - accuracy: 0.7500 - val_loss: 0.6385 - val_accuracy: 0.7833\n",
            "Epoch 14/100\n",
            "8/8 [==============================] - 0s 5ms/step - loss: 0.6206 - accuracy: 0.7542 - val_loss: 0.6341 - val_accuracy: 0.7833\n",
            "Epoch 15/100\n",
            "8/8 [==============================] - 0s 6ms/step - loss: 0.6146 - accuracy: 0.7833 - val_loss: 0.6291 - val_accuracy: 0.7833\n",
            "Epoch 16/100\n",
            "8/8 [==============================] - 0s 6ms/step - loss: 0.6087 - accuracy: 0.8083 - val_loss: 0.6245 - val_accuracy: 0.7500\n",
            "Epoch 17/100\n",
            "8/8 [==============================] - 0s 5ms/step - loss: 0.6027 - accuracy: 0.8375 - val_loss: 0.6194 - val_accuracy: 0.7833\n",
            "Epoch 18/100\n",
            "8/8 [==============================] - 0s 5ms/step - loss: 0.5965 - accuracy: 0.8583 - val_loss: 0.6141 - val_accuracy: 0.8333\n",
            "Epoch 19/100\n",
            "8/8 [==============================] - 0s 5ms/step - loss: 0.5902 - accuracy: 0.8583 - val_loss: 0.6094 - val_accuracy: 0.8333\n",
            "Epoch 20/100\n",
            "8/8 [==============================] - 0s 4ms/step - loss: 0.5838 - accuracy: 0.8583 - val_loss: 0.6042 - val_accuracy: 0.8333\n",
            "Epoch 21/100\n",
            "8/8 [==============================] - 0s 5ms/step - loss: 0.5771 - accuracy: 0.8500 - val_loss: 0.5994 - val_accuracy: 0.8333\n",
            "Epoch 22/100\n",
            "8/8 [==============================] - 0s 5ms/step - loss: 0.5706 - accuracy: 0.8500 - val_loss: 0.5934 - val_accuracy: 0.8000\n",
            "Epoch 23/100\n",
            "8/8 [==============================] - 0s 5ms/step - loss: 0.5639 - accuracy: 0.8500 - val_loss: 0.5881 - val_accuracy: 0.7833\n",
            "Epoch 24/100\n",
            "8/8 [==============================] - 0s 5ms/step - loss: 0.5571 - accuracy: 0.8458 - val_loss: 0.5817 - val_accuracy: 0.7833\n",
            "Epoch 25/100\n",
            "8/8 [==============================] - 0s 4ms/step - loss: 0.5502 - accuracy: 0.8417 - val_loss: 0.5765 - val_accuracy: 0.7833\n",
            "Epoch 26/100\n",
            "8/8 [==============================] - 0s 5ms/step - loss: 0.5435 - accuracy: 0.8333 - val_loss: 0.5708 - val_accuracy: 0.7667\n",
            "Epoch 27/100\n",
            "8/8 [==============================] - 0s 6ms/step - loss: 0.5364 - accuracy: 0.8333 - val_loss: 0.5650 - val_accuracy: 0.7667\n",
            "Epoch 28/100\n",
            "8/8 [==============================] - 0s 5ms/step - loss: 0.5294 - accuracy: 0.8292 - val_loss: 0.5590 - val_accuracy: 0.7667\n",
            "Epoch 29/100\n",
            "8/8 [==============================] - 0s 5ms/step - loss: 0.5224 - accuracy: 0.8333 - val_loss: 0.5524 - val_accuracy: 0.7667\n",
            "Epoch 30/100\n",
            "8/8 [==============================] - 0s 6ms/step - loss: 0.5155 - accuracy: 0.8333 - val_loss: 0.5458 - val_accuracy: 0.7667\n",
            "Epoch 31/100\n",
            "8/8 [==============================] - 0s 6ms/step - loss: 0.5086 - accuracy: 0.8458 - val_loss: 0.5395 - val_accuracy: 0.7667\n",
            "Epoch 32/100\n",
            "8/8 [==============================] - 0s 6ms/step - loss: 0.5016 - accuracy: 0.8417 - val_loss: 0.5329 - val_accuracy: 0.7667\n",
            "Epoch 33/100\n",
            "8/8 [==============================] - 0s 4ms/step - loss: 0.4945 - accuracy: 0.8458 - val_loss: 0.5277 - val_accuracy: 0.7667\n",
            "Epoch 34/100\n",
            "8/8 [==============================] - 0s 5ms/step - loss: 0.4877 - accuracy: 0.8417 - val_loss: 0.5222 - val_accuracy: 0.7667\n",
            "Epoch 35/100\n",
            "8/8 [==============================] - 0s 5ms/step - loss: 0.4806 - accuracy: 0.8500 - val_loss: 0.5159 - val_accuracy: 0.7667\n",
            "Epoch 36/100\n",
            "8/8 [==============================] - 0s 8ms/step - loss: 0.4736 - accuracy: 0.8583 - val_loss: 0.5085 - val_accuracy: 0.7667\n",
            "Epoch 37/100\n",
            "8/8 [==============================] - 0s 8ms/step - loss: 0.4666 - accuracy: 0.8583 - val_loss: 0.5020 - val_accuracy: 0.7833\n",
            "Epoch 38/100\n",
            "8/8 [==============================] - 0s 8ms/step - loss: 0.4596 - accuracy: 0.8583 - val_loss: 0.4955 - val_accuracy: 0.7833\n",
            "Epoch 39/100\n",
            "8/8 [==============================] - 0s 5ms/step - loss: 0.4527 - accuracy: 0.8667 - val_loss: 0.4893 - val_accuracy: 0.7833\n",
            "Epoch 40/100\n",
            "8/8 [==============================] - 0s 6ms/step - loss: 0.4457 - accuracy: 0.8667 - val_loss: 0.4819 - val_accuracy: 0.7833\n",
            "Epoch 41/100\n",
            "8/8 [==============================] - 0s 6ms/step - loss: 0.4390 - accuracy: 0.8667 - val_loss: 0.4759 - val_accuracy: 0.7833\n",
            "Epoch 42/100\n",
            "8/8 [==============================] - 0s 6ms/step - loss: 0.4317 - accuracy: 0.8708 - val_loss: 0.4690 - val_accuracy: 0.7833\n",
            "Epoch 43/100\n",
            "8/8 [==============================] - 0s 6ms/step - loss: 0.4248 - accuracy: 0.8708 - val_loss: 0.4621 - val_accuracy: 0.8000\n",
            "Epoch 44/100\n",
            "8/8 [==============================] - 0s 5ms/step - loss: 0.4179 - accuracy: 0.8708 - val_loss: 0.4551 - val_accuracy: 0.8000\n",
            "Epoch 45/100\n",
            "8/8 [==============================] - 0s 4ms/step - loss: 0.4114 - accuracy: 0.8750 - val_loss: 0.4482 - val_accuracy: 0.8000\n",
            "Epoch 46/100\n",
            "8/8 [==============================] - 0s 5ms/step - loss: 0.4046 - accuracy: 0.8792 - val_loss: 0.4427 - val_accuracy: 0.8000\n",
            "Epoch 47/100\n",
            "8/8 [==============================] - 0s 6ms/step - loss: 0.3977 - accuracy: 0.8833 - val_loss: 0.4360 - val_accuracy: 0.8000\n",
            "Epoch 48/100\n",
            "8/8 [==============================] - 0s 5ms/step - loss: 0.3913 - accuracy: 0.8875 - val_loss: 0.4295 - val_accuracy: 0.8000\n",
            "Epoch 49/100\n",
            "8/8 [==============================] - 0s 5ms/step - loss: 0.3846 - accuracy: 0.8875 - val_loss: 0.4231 - val_accuracy: 0.8000\n",
            "Epoch 50/100\n",
            "8/8 [==============================] - 0s 5ms/step - loss: 0.3780 - accuracy: 0.8917 - val_loss: 0.4156 - val_accuracy: 0.8167\n",
            "Epoch 51/100\n",
            "8/8 [==============================] - 0s 5ms/step - loss: 0.3719 - accuracy: 0.9000 - val_loss: 0.4088 - val_accuracy: 0.8167\n",
            "Epoch 52/100\n",
            "8/8 [==============================] - 0s 8ms/step - loss: 0.3652 - accuracy: 0.9000 - val_loss: 0.4023 - val_accuracy: 0.8167\n",
            "Epoch 53/100\n",
            "8/8 [==============================] - 0s 6ms/step - loss: 0.3589 - accuracy: 0.9042 - val_loss: 0.3955 - val_accuracy: 0.8167\n",
            "Epoch 54/100\n",
            "8/8 [==============================] - 0s 4ms/step - loss: 0.3527 - accuracy: 0.9083 - val_loss: 0.3894 - val_accuracy: 0.8333\n",
            "Epoch 55/100\n",
            "8/8 [==============================] - 0s 5ms/step - loss: 0.3468 - accuracy: 0.9083 - val_loss: 0.3842 - val_accuracy: 0.8500\n",
            "Epoch 56/100\n",
            "8/8 [==============================] - 0s 5ms/step - loss: 0.3408 - accuracy: 0.9083 - val_loss: 0.3778 - val_accuracy: 0.8500\n",
            "Epoch 57/100\n",
            "8/8 [==============================] - 0s 5ms/step - loss: 0.3348 - accuracy: 0.9125 - val_loss: 0.3718 - val_accuracy: 0.8500\n",
            "Epoch 58/100\n",
            "8/8 [==============================] - 0s 5ms/step - loss: 0.3294 - accuracy: 0.9167 - val_loss: 0.3650 - val_accuracy: 0.8500\n",
            "Epoch 59/100\n",
            "8/8 [==============================] - 0s 5ms/step - loss: 0.3236 - accuracy: 0.9208 - val_loss: 0.3594 - val_accuracy: 0.8667\n",
            "Epoch 60/100\n",
            "8/8 [==============================] - 0s 5ms/step - loss: 0.3177 - accuracy: 0.9292 - val_loss: 0.3540 - val_accuracy: 0.8667\n",
            "Epoch 61/100\n",
            "8/8 [==============================] - 0s 5ms/step - loss: 0.3123 - accuracy: 0.9292 - val_loss: 0.3478 - val_accuracy: 0.8667\n",
            "Epoch 62/100\n",
            "8/8 [==============================] - 0s 5ms/step - loss: 0.3069 - accuracy: 0.9292 - val_loss: 0.3428 - val_accuracy: 0.8833\n",
            "Epoch 63/100\n",
            "8/8 [==============================] - 0s 5ms/step - loss: 0.3016 - accuracy: 0.9333 - val_loss: 0.3372 - val_accuracy: 0.8833\n",
            "Epoch 64/100\n",
            "8/8 [==============================] - 0s 5ms/step - loss: 0.2966 - accuracy: 0.9375 - val_loss: 0.3316 - val_accuracy: 0.8833\n",
            "Epoch 65/100\n",
            "8/8 [==============================] - 0s 5ms/step - loss: 0.2917 - accuracy: 0.9417 - val_loss: 0.3268 - val_accuracy: 0.8833\n",
            "Epoch 66/100\n",
            "8/8 [==============================] - 0s 5ms/step - loss: 0.2863 - accuracy: 0.9458 - val_loss: 0.3221 - val_accuracy: 0.8833\n",
            "Epoch 67/100\n",
            "8/8 [==============================] - 0s 5ms/step - loss: 0.2809 - accuracy: 0.9458 - val_loss: 0.3166 - val_accuracy: 0.8833\n",
            "Epoch 68/100\n",
            "8/8 [==============================] - 0s 4ms/step - loss: 0.2751 - accuracy: 0.9500 - val_loss: 0.3110 - val_accuracy: 0.8833\n",
            "Epoch 69/100\n",
            "8/8 [==============================] - 0s 4ms/step - loss: 0.2686 - accuracy: 0.9583 - val_loss: 0.3047 - val_accuracy: 0.9000\n",
            "Epoch 70/100\n",
            "8/8 [==============================] - 0s 5ms/step - loss: 0.2626 - accuracy: 0.9667 - val_loss: 0.2991 - val_accuracy: 0.9167\n",
            "Epoch 71/100\n",
            "8/8 [==============================] - 0s 6ms/step - loss: 0.2563 - accuracy: 0.9667 - val_loss: 0.2927 - val_accuracy: 0.9167\n",
            "Epoch 72/100\n",
            "8/8 [==============================] - 0s 6ms/step - loss: 0.2497 - accuracy: 0.9750 - val_loss: 0.2870 - val_accuracy: 0.9000\n",
            "Epoch 73/100\n",
            "8/8 [==============================] - 0s 4ms/step - loss: 0.2431 - accuracy: 0.9750 - val_loss: 0.2807 - val_accuracy: 0.9000\n",
            "Epoch 74/100\n",
            "8/8 [==============================] - 0s 6ms/step - loss: 0.2365 - accuracy: 0.9750 - val_loss: 0.2748 - val_accuracy: 0.9167\n",
            "Epoch 75/100\n",
            "8/8 [==============================] - 0s 5ms/step - loss: 0.2308 - accuracy: 0.9792 - val_loss: 0.2684 - val_accuracy: 0.9333\n",
            "Epoch 76/100\n",
            "8/8 [==============================] - 0s 6ms/step - loss: 0.2257 - accuracy: 0.9792 - val_loss: 0.2622 - val_accuracy: 0.9333\n",
            "Epoch 77/100\n",
            "8/8 [==============================] - 0s 5ms/step - loss: 0.2207 - accuracy: 0.9792 - val_loss: 0.2556 - val_accuracy: 0.9333\n",
            "Epoch 78/100\n",
            "8/8 [==============================] - 0s 6ms/step - loss: 0.2158 - accuracy: 0.9792 - val_loss: 0.2489 - val_accuracy: 0.9333\n",
            "Epoch 79/100\n",
            "8/8 [==============================] - 0s 5ms/step - loss: 0.2110 - accuracy: 0.9833 - val_loss: 0.2427 - val_accuracy: 0.9333\n",
            "Epoch 80/100\n",
            "8/8 [==============================] - 0s 5ms/step - loss: 0.2067 - accuracy: 0.9833 - val_loss: 0.2369 - val_accuracy: 0.9667\n",
            "Epoch 81/100\n",
            "8/8 [==============================] - 0s 6ms/step - loss: 0.2027 - accuracy: 0.9875 - val_loss: 0.2327 - val_accuracy: 0.9667\n",
            "Epoch 82/100\n",
            "8/8 [==============================] - 0s 7ms/step - loss: 0.1989 - accuracy: 0.9833 - val_loss: 0.2283 - val_accuracy: 0.9833\n",
            "Epoch 83/100\n",
            "8/8 [==============================] - 0s 5ms/step - loss: 0.1951 - accuracy: 0.9875 - val_loss: 0.2252 - val_accuracy: 0.9500\n",
            "Epoch 84/100\n",
            "8/8 [==============================] - 0s 5ms/step - loss: 0.1918 - accuracy: 0.9875 - val_loss: 0.2211 - val_accuracy: 0.9667\n",
            "Epoch 85/100\n",
            "8/8 [==============================] - 0s 5ms/step - loss: 0.1885 - accuracy: 0.9875 - val_loss: 0.2174 - val_accuracy: 0.9667\n",
            "Epoch 86/100\n",
            "8/8 [==============================] - 0s 5ms/step - loss: 0.1852 - accuracy: 0.9875 - val_loss: 0.2134 - val_accuracy: 0.9833\n",
            "Epoch 87/100\n",
            "8/8 [==============================] - 0s 5ms/step - loss: 0.1823 - accuracy: 0.9875 - val_loss: 0.2101 - val_accuracy: 0.9833\n",
            "Epoch 88/100\n",
            "8/8 [==============================] - 0s 5ms/step - loss: 0.1793 - accuracy: 0.9875 - val_loss: 0.2072 - val_accuracy: 0.9833\n",
            "Epoch 89/100\n",
            "8/8 [==============================] - 0s 5ms/step - loss: 0.1764 - accuracy: 0.9917 - val_loss: 0.2041 - val_accuracy: 0.9833\n"
          ]
        }
      ]
    },
    {
      "cell_type": "code",
      "metadata": {
        "deletable": false,
        "editable": false,
        "nbgrader": {
          "cell_type": "code",
          "checksum": "4a5f575f46f151f97f1cebc19a484bae",
          "grade": true,
          "grade_id": "cell-770612ca24334d8a",
          "locked": true,
          "points": 1,
          "schema_version": 3,
          "solution": false,
          "task": false
        },
        "id": "xDBkOcIK56-0"
      },
      "source": [
        "# Visible test\n",
        "assert len(model2.get_config()[\"layers\"]) == 4, \"You should have 4 layers: Input, hidden 1, hidden 2, output.\"\n",
        "assert 5 <= model2.get_config()[\"layers\"][1][\"config\"][\"units\"] <= 32, \"You should have 5 - 32 units in hidden layer 1, but don't.\"\n",
        "assert 5 <= model2.get_config()[\"layers\"][2][\"config\"][\"units\"] <= 32, \"You should have 5 - 32 units in hidden layer 2, but don't.\"\n",
        "assert h2.params[\"epochs\"] == 100, \"You didn't set epochs to 100.\""
      ],
      "execution_count": 104,
      "outputs": []
    },
    {
      "cell_type": "code",
      "metadata": {
        "deletable": false,
        "editable": false,
        "nbgrader": {
          "cell_type": "code",
          "checksum": "3ca73d4d3d17897a570e19a8a97c050f",
          "grade": true,
          "grade_id": "cell-49b1bf7cce22b5b9",
          "locked": true,
          "points": 1,
          "schema_version": 3,
          "solution": false,
          "task": false
        },
        "id": "NjKkmoNs56-1"
      },
      "source": [
        "# Hidden tests - you will see the results when you submit to Canvas"
      ],
      "execution_count": 105,
      "outputs": []
    },
    {
      "cell_type": "markdown",
      "metadata": {
        "id": "mo_1HyR056-2"
      },
      "source": [
        "### Analyze and Compare\n",
        "\n",
        "**Before you Start**: You will need to install an additional library for this next segment. \n",
        "\n",
        "Install the package `mlxtend` into the environment you are using for the sprint challenge.\n",
        "\n",
        "You can install this package using the following statement in the terminal\n",
        "\n",
        "```python\n",
        "pip install mlxtend\n",
        "```\n",
        "\n",
        "Or you can install this package using the following statement in your notebook\n",
        "\n",
        "```python\n",
        "!pip install mlxtend\n",
        "```\n",
        "\n",
        "If you choose to install this package from within your notebook, be sure to delete the install statement afterwards so that CodeGrade doesn't try to install it and potentially crash. \n",
        "\n",
        "\n",
        "The cells below generate decision boundary plots of your models (`model1` & `model2`). Review the plots."
      ]
    },
    {
      "cell_type": "code",
      "metadata": {
        "colab": {
          "base_uri": "https://localhost:8080/"
        },
        "id": "Z9khKdiGuSEe",
        "outputId": "74d692a8-1d30-4d35-fb59-b4abf853e72d"
      },
      "source": [
        "!pip install mlxtend"
      ],
      "execution_count": 106,
      "outputs": [
        {
          "output_type": "stream",
          "name": "stdout",
          "text": [
            "Requirement already satisfied: mlxtend in /usr/local/lib/python3.7/dist-packages (0.14.0)\n",
            "Requirement already satisfied: numpy>=1.10.4 in /usr/local/lib/python3.7/dist-packages (from mlxtend) (1.19.5)\n",
            "Requirement already satisfied: scikit-learn>=0.18 in /usr/local/lib/python3.7/dist-packages (from mlxtend) (0.22.2.post1)\n",
            "Requirement already satisfied: pandas>=0.17.1 in /usr/local/lib/python3.7/dist-packages (from mlxtend) (1.1.5)\n",
            "Requirement already satisfied: matplotlib>=1.5.1 in /usr/local/lib/python3.7/dist-packages (from mlxtend) (3.2.2)\n",
            "Requirement already satisfied: setuptools in /usr/local/lib/python3.7/dist-packages (from mlxtend) (57.4.0)\n",
            "Requirement already satisfied: scipy>=0.17 in /usr/local/lib/python3.7/dist-packages (from mlxtend) (1.4.1)\n",
            "Requirement already satisfied: pyparsing!=2.0.4,!=2.1.2,!=2.1.6,>=2.0.1 in /usr/local/lib/python3.7/dist-packages (from matplotlib>=1.5.1->mlxtend) (2.4.7)\n",
            "Requirement already satisfied: cycler>=0.10 in /usr/local/lib/python3.7/dist-packages (from matplotlib>=1.5.1->mlxtend) (0.10.0)\n",
            "Requirement already satisfied: python-dateutil>=2.1 in /usr/local/lib/python3.7/dist-packages (from matplotlib>=1.5.1->mlxtend) (2.8.2)\n",
            "Requirement already satisfied: kiwisolver>=1.0.1 in /usr/local/lib/python3.7/dist-packages (from matplotlib>=1.5.1->mlxtend) (1.3.1)\n",
            "Requirement already satisfied: six in /usr/local/lib/python3.7/dist-packages (from cycler>=0.10->matplotlib>=1.5.1->mlxtend) (1.15.0)\n",
            "Requirement already satisfied: pytz>=2017.2 in /usr/local/lib/python3.7/dist-packages (from pandas>=0.17.1->mlxtend) (2018.9)\n",
            "Requirement already satisfied: joblib>=0.11 in /usr/local/lib/python3.7/dist-packages (from scikit-learn>=0.18->mlxtend) (1.0.1)\n"
          ]
        }
      ]
    },
    {
      "cell_type": "code",
      "metadata": {
        "colab": {
          "base_uri": "https://localhost:8080/"
        },
        "id": "klr7IUtF56-2",
        "outputId": "4dbd0764-6ff1-4eea-f208-7cc9f0e2aa7c"
      },
      "source": [
        "X.shape, y.shape"
      ],
      "execution_count": 107,
      "outputs": [
        {
          "output_type": "execute_result",
          "data": {
            "text/plain": [
              "((300, 2), (300,))"
            ]
          },
          "metadata": {},
          "execution_count": 107
        }
      ]
    },
    {
      "cell_type": "code",
      "metadata": {
        "colab": {
          "base_uri": "https://localhost:8080/",
          "height": 447
        },
        "id": "XUFMBVCs56-2",
        "outputId": "2ccd0443-319f-491b-f81a-e83fb8fd78fd"
      },
      "source": [
        "import matplotlib.pyplot as plt\n",
        "from mlxtend.plotting import plot_decision_regions\n",
        "\n",
        "\n",
        "fig = plt.figure(figsize=(12,6))\n",
        "\n",
        "for clf, hist, name, grd in zip([model1,model2], [h1, h2],['Perceptron', 'Multi-Layer Perceptron'],[1,2]):\n",
        "\n",
        "    ax = plt.subplot(1,2, grd)\n",
        "    fig = plot_decision_regions(X=X, y=y, clf=clf, legend=2)\n",
        "    title = f\"{name} with {hist.history['accuracy'][-1]:,.2f} Accuracy\"\n",
        "    plt.title(title)\n",
        "\n",
        "plt.show()"
      ],
      "execution_count": 108,
      "outputs": [
        {
          "output_type": "stream",
          "name": "stderr",
          "text": [
            "/usr/local/lib/python3.7/dist-packages/mlxtend/plotting/decision_regions.py:244: MatplotlibDeprecationWarning: Passing unsupported keyword arguments to axis() will raise a TypeError in 3.3.\n",
            "  ax.axis(xmin=xx.min(), xmax=xx.max(), y_min=yy.min(), y_max=yy.max())\n"
          ]
        },
        {
          "output_type": "display_data",
          "data": {
            "image/png": "[encoded data removed]",
            "text/plain": [
              "<Figure size 864x432 with 2 Axes>"
            ]
          },
          "metadata": {
            "needs_background": "light"
          }
        }
      ]
    },
    {
      "cell_type": "code",
      "metadata": {
        "id": "rbulWuoWDj7R"
      },
      "source": [
        "# pretty much exactly what we did in the first day"
      ],
      "execution_count": 109,
      "outputs": []
    },
    {
      "cell_type": "markdown",
      "metadata": {
        "deletable": false,
        "editable": false,
        "nbgrader": {
          "cell_type": "markdown",
          "checksum": "40c30e638b6defe125180b9832a675e2",
          "grade": false,
          "grade_id": "cell-b1bde9222e35b3fc",
          "locked": true,
          "points": 0,
          "schema_version": 3,
          "solution": false,
          "task": true
        },
        "id": "Tu14O1Yw56-3"
      },
      "source": [
        "1) Why does the Perceptron (`model1`) only achieve about 50% accuracy? \n",
        "\n",
        "2) What is the architectural property of the Multi-Layer Perceptron that allows it to more accurately learn the relationship between X and y? \n",
        "- Hint: recall that each layer represents a vector space and they usually have a different number of dimensions, $\\mathbb{R}^N$.\n",
        "   "
      ]
    },
    {
      "cell_type": "markdown",
      "metadata": {
        "deletable": false,
        "nbgrader": {
          "cell_type": "markdown",
          "checksum": "e01b50ff508342b905c5a4cdbd7d2dc4",
          "grade": true,
          "grade_id": "cell-302694c508c8da0e",
          "locked": false,
          "points": 0,
          "schema_version": 3,
          "solution": true,
          "task": false
        },
        "id": "HG40xdEF56-4"
      },
      "source": [
        "1. We don't have any hidden layers so it does a linear fit, which for this classification (very similar to XOR problem from lecture) will result in an accuracy of 50%.\n",
        "\n",
        "2. The hidden layers allow more than one dimension of fitting, resulting in the model being able to categorize the data into 4 quadrants instead of 2."
      ]
    },
    {
      "cell_type": "markdown",
      "metadata": {
        "id": "pi80OZrO56-4"
      },
      "source": [
        "## 3. Keras MMP <a id=\"Q3\"></a>\n",
        "\n",
        "- Implement a Multilayer Perceptron architecture of your choosing using the Keras library. \n",
        "- Train your model and report its baseline accuracy. \n",
        "- Then `hyper-parameters tune two parameters each with no more than 2 values each`\n",
        "    - Due to limited computational resources on CodeGrade `DO NOT INCLUDE ADDITIONAL PARAMETERS OR VALUES PLEASE`\n",
        "- Report your optimized model's accuracy\n",
        "- Use the Heart Disease Dataset provided (binary classification)\n",
        "- Use an appropriate loss function for a binary classification task\n",
        "- Use an appropriate activation function on the final layer of your network.\n",
        "- Train your model using verbose output for ease of grading.\n",
        "- Use GridSearchCV to hyper-parameters tune your model. \n",
        "    - **Use `n_jobs` = 1**\n",
        "- When hyper-parameters tuning, show you work by adding code cells for each new experiment.\n",
        "- Report the accuracy for each combination of hyper-parameters as you test them so that we can easily see which resulted in the highest accuracy."
      ]
    },
    {
      "cell_type": "code",
      "metadata": {
        "inputHidden": false,
        "jupyter": {
          "outputs_hidden": false
        },
        "outputHidden": false,
        "colab": {
          "base_uri": "https://localhost:8080/",
          "height": 225
        },
        "id": "ljz9gKS956-4",
        "outputId": "c82dc761-0d3f-469a-adce-09f3a1b2915d"
      },
      "source": [
        "import pandas as pd\n",
        "from sklearn.preprocessing import StandardScaler\n",
        "\n",
        "# load data\n",
        "data_path = 'https://raw.githubusercontent.com/ryanleeallred/datasets/master/heart.csv'\n",
        "df = pd.read_csv(data_path)\n",
        "df = df.sample(frac=1)\n",
        "print(df.shape)\n",
        "df.head()"
      ],
      "execution_count": 110,
      "outputs": [
        {
          "output_type": "stream",
          "name": "stdout",
          "text": [
            "(303, 14)\n"
          ]
        },
        {
          "output_type": "execute_result",
          "data": {
            "text/html": [
              "<div>\n",
              "<style scoped>\n",
              "    .dataframe tbody tr th:only-of-type {\n",
              "        vertical-align: middle;\n",
              "    }\n",
              "\n",
              "    .dataframe tbody tr th {\n",
              "        vertical-align: top;\n",
              "    }\n",
              "\n",
              "    .dataframe thead th {\n",
              "        text-align: right;\n",
              "    }\n",
              "</style>\n",
              "<table border=\"1\" class=\"dataframe\">\n",
              "  <thead>\n",
              "    <tr style=\"text-align: right;\">\n",
              "      <th></th>\n",
              "      <th>age</th>\n",
              "      <th>sex</th>\n",
              "      <th>cp</th>\n",
              "      <th>trestbps</th>\n",
              "      <th>chol</th>\n",
              "      <th>fbs</th>\n",
              "      <th>restecg</th>\n",
              "      <th>thalach</th>\n",
              "      <th>exang</th>\n",
              "      <th>oldpeak</th>\n",
              "      <th>slope</th>\n",
              "      <th>ca</th>\n",
              "      <th>thal</th>\n",
              "      <th>target</th>\n",
              "    </tr>\n",
              "  </thead>\n",
              "  <tbody>\n",
              "    <tr>\n",
              "      <th>175</th>\n",
              "      <td>40</td>\n",
              "      <td>1</td>\n",
              "      <td>0</td>\n",
              "      <td>110</td>\n",
              "      <td>167</td>\n",
              "      <td>0</td>\n",
              "      <td>0</td>\n",
              "      <td>114</td>\n",
              "      <td>1</td>\n",
              "      <td>2.0</td>\n",
              "      <td>1</td>\n",
              "      <td>0</td>\n",
              "      <td>3</td>\n",
              "      <td>0</td>\n",
              "    </tr>\n",
              "    <tr>\n",
              "      <th>87</th>\n",
              "      <td>46</td>\n",
              "      <td>1</td>\n",
              "      <td>1</td>\n",
              "      <td>101</td>\n",
              "      <td>197</td>\n",
              "      <td>1</td>\n",
              "      <td>1</td>\n",
              "      <td>156</td>\n",
              "      <td>0</td>\n",
              "      <td>0.0</td>\n",
              "      <td>2</td>\n",
              "      <td>0</td>\n",
              "      <td>3</td>\n",
              "      <td>1</td>\n",
              "    </tr>\n",
              "    <tr>\n",
              "      <th>254</th>\n",
              "      <td>59</td>\n",
              "      <td>1</td>\n",
              "      <td>3</td>\n",
              "      <td>160</td>\n",
              "      <td>273</td>\n",
              "      <td>0</td>\n",
              "      <td>0</td>\n",
              "      <td>125</td>\n",
              "      <td>0</td>\n",
              "      <td>0.0</td>\n",
              "      <td>2</td>\n",
              "      <td>0</td>\n",
              "      <td>2</td>\n",
              "      <td>0</td>\n",
              "    </tr>\n",
              "    <tr>\n",
              "      <th>35</th>\n",
              "      <td>46</td>\n",
              "      <td>0</td>\n",
              "      <td>2</td>\n",
              "      <td>142</td>\n",
              "      <td>177</td>\n",
              "      <td>0</td>\n",
              "      <td>0</td>\n",
              "      <td>160</td>\n",
              "      <td>1</td>\n",
              "      <td>1.4</td>\n",
              "      <td>0</td>\n",
              "      <td>0</td>\n",
              "      <td>2</td>\n",
              "      <td>1</td>\n",
              "    </tr>\n",
              "    <tr>\n",
              "      <th>140</th>\n",
              "      <td>51</td>\n",
              "      <td>0</td>\n",
              "      <td>2</td>\n",
              "      <td>120</td>\n",
              "      <td>295</td>\n",
              "      <td>0</td>\n",
              "      <td>0</td>\n",
              "      <td>157</td>\n",
              "      <td>0</td>\n",
              "      <td>0.6</td>\n",
              "      <td>2</td>\n",
              "      <td>0</td>\n",
              "      <td>2</td>\n",
              "      <td>1</td>\n",
              "    </tr>\n",
              "  </tbody>\n",
              "</table>\n",
              "</div>"
            ],
            "text/plain": [
              "     age  sex  cp  trestbps  chol  fbs  ...  exang  oldpeak  slope  ca  thal  target\n",
              "175   40    1   0       110   167    0  ...      1      2.0      1   0     3       0\n",
              "87    46    1   1       101   197    1  ...      0      0.0      2   0     3       1\n",
              "254   59    1   3       160   273    0  ...      0      0.0      2   0     2       0\n",
              "35    46    0   2       142   177    0  ...      1      1.4      0   0     2       1\n",
              "140   51    0   2       120   295    0  ...      0      0.6      2   0     2       1\n",
              "\n",
              "[5 rows x 14 columns]"
            ]
          },
          "metadata": {},
          "execution_count": 110
        }
      ]
    },
    {
      "cell_type": "code",
      "metadata": {
        "deletable": false,
        "nbgrader": {
          "cell_type": "code",
          "checksum": "22de1dc5d17d7a0bc674d082c33e8b65",
          "grade": false,
          "grade_id": "cell-85dc40f19f5a1d6b",
          "locked": false,
          "schema_version": 3,
          "solution": true,
          "task": false
        },
        "colab": {
          "base_uri": "https://localhost:8080/"
        },
        "id": "1atA4lro56-5",
        "outputId": "df6e1203-900d-44a4-a2f9-0c7dde8e106c"
      },
      "source": [
        "# Create an input matrix named 'X' store it in a 2D numpy array\n",
        "\n",
        "# Create an output vector for the labels named 'Y', store it in 1D numpy array\n",
        "\n",
        "# create our training data\n",
        "target = 'target'\n",
        "Y = df[target]\n",
        "X = df.drop(columns=target)\n",
        "print(f'Shape of X: {X.shape}, shape of y: {y.shape}')"
      ],
      "execution_count": 111,
      "outputs": [
        {
          "output_type": "stream",
          "name": "stdout",
          "text": [
            "Shape of X: (303, 13), shape of y: (300,)\n"
          ]
        }
      ]
    },
    {
      "cell_type": "code",
      "metadata": {
        "deletable": false,
        "editable": false,
        "nbgrader": {
          "cell_type": "code",
          "checksum": "825d4f808810a2a8d6301d7453afe478",
          "grade": true,
          "grade_id": "cell-c17c686c974edc2e",
          "locked": true,
          "points": 1,
          "schema_version": 3,
          "solution": false,
          "task": false
        },
        "id": "yr_uKIMN56-5"
      },
      "source": [
        "# Visible Testing\n",
        "assert X.shape[0] == 303, \"Did you drop/lose some rows in X? Did you properly load and split the data?\"\n",
        "assert X.shape[1] == 13, \"Did you drop/lose some columns in X? Did you properly load and split the data?\"\n",
        "assert len(Y)== 303, \"Did you drop/lose some rows in Y? Did you properly load and split the data?\""
      ],
      "execution_count": 112,
      "outputs": []
    },
    {
      "cell_type": "code",
      "metadata": {
        "id": "9pmZQekS56-6"
      },
      "source": [
        "import tensorflow.keras\n",
        "from tensorflow.keras.models import Sequential\n",
        "from tensorflow.keras.layers import Dense\n",
        "from sklearn.model_selection import GridSearchCV\n",
        "from tensorflow.keras.wrappers.scikit_learn import KerasClassifier"
      ],
      "execution_count": 113,
      "outputs": []
    },
    {
      "cell_type": "code",
      "metadata": {
        "deletable": false,
        "nbgrader": {
          "cell_type": "code",
          "checksum": "475835631ff6a34028443dbf604bd922",
          "grade": false,
          "grade_id": "cell-cfc5517cd0b6fa64",
          "locked": false,
          "schema_version": 3,
          "solution": true,
          "task": false
        },
        "id": "Pp0D5jNc56-6"
      },
      "source": [
        "# Create a function named 'create_model' that returns a complied keras model -  required for KerasClassifier\n",
        "\n",
        "# my function is compact and allows for a lot of hyperparameter tuning\n",
        "# units are how many neurons in each hidden layer\n",
        "# layers are how many hidden layers there are \n",
        "# act_fn is what activation function each\n",
        "def create_model(units=10, layers=3, act_fn='relu', opt='adam', out_fn='sigmoid'):\n",
        "  '''my function is compact and allows for a lot of hyperparameter tuning\n",
        "  units are how many neurons in each hidden layer\n",
        "  layers are how many hidden layers there are \n",
        "  act_fn is what activation function each\n",
        "  opt is what optimizer to use\n",
        "  out_fn is what activation function to use on the output layer'''\n",
        "  model = Sequential()\n",
        "\n",
        "  for layer in range(layers):\n",
        "    model.add(Dense(units, activation=act_fn, input_dim = 13))\n",
        "\n",
        "  model.add(Dense(1, activation=out_fn))\n",
        "\n",
        "  model.compile(optimizer=opt, loss='binary_crossentropy', metrics=['accuracy'])\n",
        "  return model"
      ],
      "execution_count": 114,
      "outputs": []
    },
    {
      "cell_type": "code",
      "metadata": {
        "colab": {
          "base_uri": "https://localhost:8080/",
          "height": 36
        },
        "id": "aEoDiswQ_5xv",
        "outputId": "5670adfe-953b-4d76-bedd-5c7b3e723091"
      },
      "source": [
        "create_model().__module__"
      ],
      "execution_count": 115,
      "outputs": [
        {
          "output_type": "execute_result",
          "data": {
            "application/vnd.google.colaboratory.intrinsic+json": {
              "type": "string"
            },
            "text/plain": [
              "'keras.engine.sequential'"
            ]
          },
          "metadata": {},
          "execution_count": 115
        }
      ]
    },
    {
      "cell_type": "code",
      "metadata": {
        "deletable": false,
        "nbgrader": {
          "cell_type": "code",
          "checksum": "0412c74b7803790452d4914d99995dd2",
          "grade": false,
          "grade_id": "cell-fbc3d0a07230078c",
          "locked": false,
          "schema_version": 3,
          "solution": true,
          "task": false
        },
        "id": "plYJ13qz56-7"
      },
      "source": [
        "# Pass 'create_model' into KerasClassifier, store KerasClassifier to a variable named 'model'\n",
        "# YOUR CODE HERE\n",
        "model = KerasClassifier(build_fn=create_model)"
      ],
      "execution_count": 116,
      "outputs": []
    },
    {
      "cell_type": "code",
      "metadata": {
        "colab": {
          "base_uri": "https://localhost:8080/",
          "height": 36
        },
        "id": "B1UHNtVoAsmg",
        "outputId": "84913d95-17fc-484b-f6ca-1aa899964bab"
      },
      "source": [
        "model.__module__"
      ],
      "execution_count": 117,
      "outputs": [
        {
          "output_type": "execute_result",
          "data": {
            "application/vnd.google.colaboratory.intrinsic+json": {
              "type": "string"
            },
            "text/plain": [
              "'keras.wrappers.scikit_learn'"
            ]
          },
          "metadata": {},
          "execution_count": 117
        }
      ]
    },
    {
      "cell_type": "code",
      "metadata": {
        "deletable": false,
        "nbgrader": {
          "cell_type": "code",
          "checksum": "f88603ef37a4d3d2ef8699a41ac9a0b2",
          "grade": false,
          "grade_id": "cell-985c0425f3b1304d",
          "locked": false,
          "schema_version": 3,
          "solution": true,
          "task": false
        },
        "id": "kspBY46u56-7"
      },
      "source": [
        "# Define the grid search parameters inside a dictionary named 'param_grid' \n",
        "# Use 2 hyper-parameters with 2 possible values for each \n",
        "\n",
        "# YOUR CODE HERE\n",
        "param_grid = {'units': [10, 15],\n",
        "              'opt': ['adam', 'rmsprop']}"
      ],
      "execution_count": 118,
      "outputs": []
    },
    {
      "cell_type": "code",
      "metadata": {
        "deletable": false,
        "editable": false,
        "nbgrader": {
          "cell_type": "code",
          "checksum": "a551fd8278b30c1318c036f6ad43b503",
          "grade": true,
          "grade_id": "cell-c765b5db5489d7a2",
          "locked": true,
          "points": 1,
          "schema_version": 3,
          "solution": false,
          "task": false
        },
        "id": "0Jt9CRiH56-8"
      },
      "source": [
        "assert len(param_grid.keys()) == 2, \"Did you create a param dict with 2 hyper-parameters as keys?\""
      ],
      "execution_count": 119,
      "outputs": []
    },
    {
      "cell_type": "code",
      "metadata": {
        "deletable": false,
        "nbgrader": {
          "cell_type": "code",
          "checksum": "2ea6312f4bc1f42809196b696037dd52",
          "grade": false,
          "grade_id": "cell-7cfb4315eab5031c",
          "locked": false,
          "schema_version": 3,
          "solution": true,
          "task": false
        },
        "colab": {
          "base_uri": "https://localhost:8080/"
        },
        "id": "EpHIftaL56-8",
        "outputId": "c7a38e0a-1280-424a-9e8b-f22dd8647b29"
      },
      "source": [
        "# Create Grid Search object and name it 'gs'\n",
        "# Run Grid Search \n",
        "# YOUR CODE HERE\n",
        "gs = GridSearchCV(estimator=model, param_grid=param_grid, n_jobs=-1, verbose=2, cv=3)\n",
        "grid_result = gs.fit(X, Y)\n"
      ],
      "execution_count": 120,
      "outputs": [
        {
          "output_type": "stream",
          "name": "stdout",
          "text": [
            "Fitting 3 folds for each of 4 candidates, totalling 12 fits\n"
          ]
        },
        {
          "output_type": "stream",
          "name": "stderr",
          "text": [
            "[Parallel(n_jobs=-1)]: Using backend LokyBackend with 2 concurrent workers.\n",
            "[Parallel(n_jobs=-1)]: Done  12 out of  12 | elapsed:   11.4s finished\n"
          ]
        },
        {
          "output_type": "stream",
          "name": "stdout",
          "text": [
            "10/10 [==============================] - 1s 3ms/step - loss: 1.1311 - accuracy: 0.6172\n"
          ]
        }
      ]
    },
    {
      "cell_type": "code",
      "metadata": {
        "colab": {
          "base_uri": "https://localhost:8080/"
        },
        "id": "bcSDAedI56-8",
        "outputId": "f8587dc8-23db-4e20-9728-6fa6883080dd"
      },
      "source": [
        "# your grid_result object should be able to run in this code \n",
        "print(f\"Best: {grid_result.best_score_} using {grid_result.best_params_}\")\n",
        "means = grid_result.cv_results_['mean_test_score']\n",
        "stds = grid_result.cv_results_['std_test_score']\n",
        "params = grid_result.cv_results_['params']\n",
        "for mean, stdev, param in zip(means, stds, params):\n",
        "    print(f\"Means: {mean}, Stdev: {stdev} with: {param}\") "
      ],
      "execution_count": 121,
      "outputs": [
        {
          "output_type": "stream",
          "name": "stdout",
          "text": [
            "Best: 0.5874587496121725 using {'opt': 'rmsprop', 'units': 15}\n",
            "Means: 0.455445537964503, Stdev: 0.02914773044254022 with: {'opt': 'adam', 'units': 10}\n",
            "Means: 0.46204620599746704, Stdev: 0.09369682679210607 with: {'opt': 'adam', 'units': 15}\n",
            "Means: 0.4785478512446086, Stdev: 0.06875468259929249 with: {'opt': 'rmsprop', 'units': 10}\n",
            "Means: 0.5874587496121725, Stdev: 0.024697401133156067 with: {'opt': 'rmsprop', 'units': 15}\n"
          ]
        }
      ]
    },
    {
      "cell_type": "code",
      "metadata": {
        "id": "TUmuqJSJ56-8"
      },
      "source": [
        ""
      ],
      "execution_count": 121,
      "outputs": []
    }
  ]
}