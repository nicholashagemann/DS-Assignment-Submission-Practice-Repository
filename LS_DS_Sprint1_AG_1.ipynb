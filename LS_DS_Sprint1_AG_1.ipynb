{
  "nbformat": 4,
  "nbformat_minor": 0,
  "metadata": {
    "colab": {
      "name": "LS_DS_Sprint1_AG-1.ipynb",
      "provenance": [],
      "collapsed_sections": [],
      "include_colab_link": true
    },
    "kernelspec": {
      "display_name": "Python 3",
      "language": "python",
      "name": "python3"
    },
    "language_info": {
      "codemirror_mode": {
        "name": "ipython",
        "version": 3
      },
      "file_extension": ".py",
      "mimetype": "text/x-python",
      "name": "python",
      "nbconvert_exporter": "python",
      "pygments_lexer": "ipython3",
      "version": "3.7.4"
    }
  },
  "cells": [
    {
      "cell_type": "markdown",
      "metadata": {
        "id": "view-in-github",
        "colab_type": "text"
      },
      "source": [
        "<a href=\"https://colab.research.google.com/github/nicholashagemann/DS-Assignment-Submission-Practice-Repository/blob/master/LS_DS_Sprint1_AG_1.ipynb\" target=\"_parent\"><img src=\"https://colab.research.google.com/assets/colab-badge.svg\" alt=\"Open In Colab\"/></a>"
      ]
    },
    {
      "cell_type": "markdown",
      "metadata": {
        "id": "asW-8scXpyi8"
      },
      "source": [
        "## Autograded Notebook (Canvas & CodeGrade)\n",
        "\n",
        "This notebook will be automatically graded. It is designed to test your answers and award points for the correct answers. Following the instructions for each Task carefully.\n",
        "\n",
        "### Instructions\n",
        "\n",
        "* **Download this notebook** as you would any other ipynb file\n",
        "* **Upload** to Google Colab or work locally (if you have that set-up)\n",
        "* **Delete `raise NotImplementedError()`**\n",
        "* Write your code in the `# YOUR CODE HERE` space\n",
        "* **Execute** the Test cells that contain `assert` statements - these help you check your work (others contain hidden tests that will be checked when you submit through Canvas)\n",
        "* **Save** your notebook when you are finished\n",
        "* **Download** as a `ipynb` file (if working in Colab)\n",
        "* **Upload** your complete notebook to Canvas (there will be additional instructions in Slack and/or Canvas)"
      ]
    },
    {
      "cell_type": "markdown",
      "metadata": {
        "id": "j4EFYnn4MixR"
      },
      "source": [
        "# Lambda School Data Science - Unit 1 Sprint 1\n",
        "\n",
        "## Sprint Challenge: Data Wrangling and Storytelling\n"
      ]
    },
    {
      "cell_type": "markdown",
      "metadata": {
        "id": "qSvL3CeTFk9F"
      },
      "source": [
        "## Use the following information to complete Tasks 1 - 12\n",
        "\n",
        "### Notebook points total: 12\n",
        "\n",
        "In this Sprint Challenge you will first \"wrangle\" some data from [Gapminder](https://www.gapminder.org/about-gapminder/), a Swedish non-profit co-founded by Hans Rosling. \"Gapminder produces free teaching resources making the world understandable based on reliable statistics.\"\n",
        "- [Cell phones (total), by country and year](https://raw.githubusercontent.com/open-numbers/ddf--gapminder--systema_globalis/master/countries-etc-datapoints/ddf--datapoints--cell_phones_total--by--geo--time.csv)\n",
        "- [Population (total), by country and year](https://raw.githubusercontent.com/open-numbers/ddf--gapminder--systema_globalis/master/countries-etc-datapoints/ddf--datapoints--population_total--by--geo--time.csv)\n",
        "- [Geo country codes](https://github.com/open-numbers/ddf--gapminder--systema_globalis/blob/master/ddf--entities--geo--country.csv)\n",
        "\n",
        "These two links have everything you need to successfully complete the first part of this sprint challenge.\n",
        "- [Pandas documentation: Working with Text Data](https://pandas.pydata.org/pandas-docs/stable/text.html) (one question)\n",
        "- [Pandas Cheat Sheet](https://github.com/pandas-dev/pandas/blob/master/doc/cheatsheet/Pandas_Cheat_Sheet.pdf) (everything else)\n"
      ]
    },
    {
      "cell_type": "markdown",
      "metadata": {
        "id": "0ZklksziMixS"
      },
      "source": [
        "**Task 1** - Load and print the cell phone data.  Pandas and numpy import statements have been included for you.\n",
        "\n",
        "* load your CSV file found at `cell_phones_url` into a DataFrame named `cell_phones`\n",
        "* print the top 5 records of `cell_phones`\n"
      ]
    },
    {
      "cell_type": "code",
      "metadata": {
        "deletable": false,
        "id": "FFO8QNJ7MixS",
        "nbgrader": {
          "cell_type": "code",
          "checksum": "1632d7e0d10fad859c18f7a2fd31b76d",
          "grade": false,
          "grade_id": "cell-6f16afb9d271f949",
          "locked": false,
          "schema_version": 3,
          "solution": true,
          "task": false
        },
        "colab": {
          "base_uri": "https://localhost:8080/"
        },
        "outputId": "1d2bfc10-3712-46c7-8acb-7067e073cd87"
      },
      "source": [
        "# Task 1\n",
        "\n",
        "# Imports \n",
        "import pandas as pd\n",
        "import numpy as np\n",
        "\n",
        "cell_phones_url = 'https://raw.githubusercontent.com/LambdaSchool/data-science-practice-datasets/main/unit_1/Cell__Phones/cell_phones.csv'\n",
        "\n",
        "# Load the dataframe and print the top 5 rows\n",
        "\n",
        "# YOUR CODE HERE\n",
        "cell_phones = pd.read_csv(cell_phones_url)\n",
        "cell_phones.head()\n",
        "cell_phones.isna().sum()"
      ],
      "execution_count": null,
      "outputs": [
        {
          "output_type": "execute_result",
          "data": {
            "text/plain": [
              "geo                  0\n",
              "time                 0\n",
              "cell_phones_total    0\n",
              "dtype: int64"
            ]
          },
          "metadata": {
            "tags": []
          },
          "execution_count": 254
        }
      ]
    },
    {
      "cell_type": "markdown",
      "metadata": {
        "id": "ymCLkZMJMixT"
      },
      "source": [
        "**Task 1 Test**"
      ]
    },
    {
      "cell_type": "code",
      "metadata": {
        "deletable": false,
        "editable": false,
        "id": "btcEJXxCMixT",
        "nbgrader": {
          "cell_type": "code",
          "checksum": "cd3795c084d4d631eeff1d62b4cf1580",
          "grade": true,
          "grade_id": "cell-226f7bf8e9ea24f9",
          "locked": true,
          "points": 1,
          "schema_version": 3,
          "solution": false,
          "task": false
        }
      },
      "source": [
        "# Task 1 - Test\n",
        "\n",
        "assert isinstance(cell_phones, pd.DataFrame), 'Have you created a DataFrame named `cell_phones`?'\n",
        "assert len(cell_phones) == 9574\n"
      ],
      "execution_count": null,
      "outputs": []
    },
    {
      "cell_type": "markdown",
      "metadata": {
        "id": "9YPW16tmT2J_"
      },
      "source": [
        "**Task 2** - Load and print the population data.  \n",
        "\n",
        "* load the CSV file found at `population_url` into a DataFrame named `population`\n",
        "* print the top 5 records of `population`\n"
      ]
    },
    {
      "cell_type": "code",
      "metadata": {
        "deletable": false,
        "id": "SNWpDAvyUYa2",
        "nbgrader": {
          "cell_type": "code",
          "checksum": "2eab1821adf0220c706ecf2382fcab3e",
          "grade": false,
          "grade_id": "cell-561c2d59728188a9",
          "locked": false,
          "schema_version": 3,
          "solution": true,
          "task": false
        },
        "colab": {
          "base_uri": "https://localhost:8080/"
        },
        "outputId": "9f7f890c-c61f-4504-8ae5-9d291bf40f2f"
      },
      "source": [
        "# Task 2\n",
        "\n",
        "population_url = 'https://raw.githubusercontent.com/LambdaSchool/data-science-practice-datasets/main/unit_1/Population/population.csv'\n",
        "\n",
        "# Load the dataframe and print the first 5 records\n",
        "\n",
        "# YOUR CODE HERE\n",
        "population = pd.read_csv(population_url)\n",
        "population.head()\n",
        "population.isna().sum()"
      ],
      "execution_count": null,
      "outputs": [
        {
          "output_type": "execute_result",
          "data": {
            "text/plain": [
              "geo                 0\n",
              "time                0\n",
              "population_total    0\n",
              "dtype: int64"
            ]
          },
          "metadata": {
            "tags": []
          },
          "execution_count": 256
        }
      ]
    },
    {
      "cell_type": "markdown",
      "metadata": {
        "id": "RDOcC0FdVjIz"
      },
      "source": [
        "**Task 2 Test**"
      ]
    },
    {
      "cell_type": "code",
      "metadata": {
        "deletable": false,
        "editable": false,
        "id": "jcaZ5W5cVjI_",
        "nbgrader": {
          "cell_type": "code",
          "checksum": "2858e90cb4132ad3e6063660a7e38469",
          "grade": true,
          "grade_id": "cell-59d01cd695becd74",
          "locked": true,
          "points": 1,
          "schema_version": 3,
          "solution": false,
          "task": false
        }
      },
      "source": [
        "# Task 2 - Test\n",
        "\n",
        "assert isinstance(population, pd.DataFrame), 'Have you created a DataFrame named `population`?'\n",
        "assert len(population) == 59297\n"
      ],
      "execution_count": null,
      "outputs": []
    },
    {
      "cell_type": "markdown",
      "metadata": {
        "id": "9acXXTiEV5uJ"
      },
      "source": [
        "**Task 3** - Load and print the geo country codes data.  \n",
        "\n",
        "* load the CSV file found at `geo_codes_url` into a DataFrame named `geo_codes`\n",
        "* print the top 5 records of `geo_codes`\n"
      ]
    },
    {
      "cell_type": "code",
      "metadata": {
        "deletable": false,
        "id": "Obm4p8WXV5uJ",
        "nbgrader": {
          "cell_type": "code",
          "checksum": "c6d583bee0966dc2f01f62c6086f3ed3",
          "grade": false,
          "grade_id": "cell-eb4d290384535503",
          "locked": false,
          "schema_version": 3,
          "solution": true,
          "task": false
        },
        "colab": {
          "base_uri": "https://localhost:8080/"
        },
        "outputId": "9a7229c9-4ea2-4cf3-fdbc-248c1f255832"
      },
      "source": [
        "# Task 3\n",
        "\n",
        "geo_codes_url = 'https://raw.githubusercontent.com/LambdaSchool/data-science-practice-datasets/main/unit_1/GEO_codes/geo_country_codes.csv'\n",
        "\n",
        "# Load the dataframe and print out the first 5 records\n",
        "\n",
        "# YOUR CODE HERE\n",
        "geo_codes = pd.read_csv(geo_codes_url)\n",
        "geo_codes.head()\n",
        "geo_codes.isna().sum()\n"
      ],
      "execution_count": null,
      "outputs": [
        {
          "output_type": "execute_result",
          "data": {
            "text/plain": [
              "geo                         0\n",
              "g77_and_oecd_countries     14\n",
              "income_3groups             55\n",
              "income_groups              55\n",
              "is--country                 0\n",
              "iso3166_1_alpha2           27\n",
              "iso3166_1_alpha3           26\n",
              "iso3166_1_numeric          26\n",
              "iso3166_2                 272\n",
              "landlocked                 18\n",
              "latitude                   32\n",
              "longitude                  32\n",
              "main_religion_2008         57\n",
              "country                     0\n",
              "un_sdg_ldc                 24\n",
              "un_sdg_region              25\n",
              "un_state                    0\n",
              "unicef_region              78\n",
              "unicode_region_subtag      25\n",
              "world_4region               2\n",
              "world_6region              13\n",
              "dtype: int64"
            ]
          },
          "metadata": {
            "tags": []
          },
          "execution_count": 258
        }
      ]
    },
    {
      "cell_type": "markdown",
      "metadata": {
        "id": "_WR-4MbmV5uK"
      },
      "source": [
        "**Task 3 Test**"
      ]
    },
    {
      "cell_type": "code",
      "metadata": {
        "deletable": false,
        "editable": false,
        "id": "Z3Tza5NWV5uK",
        "nbgrader": {
          "cell_type": "code",
          "checksum": "78137b984fce2d85c696c65078dfd05d",
          "grade": true,
          "grade_id": "cell-39240405659c0c19",
          "locked": true,
          "points": 1,
          "schema_version": 3,
          "solution": false,
          "task": false
        }
      },
      "source": [
        "# Task 3 - Test\n",
        "\n",
        "assert geo_codes is not None, 'Have you created a DataFrame named `geo_codes`?'\n",
        "assert len(geo_codes) == 273\n"
      ],
      "execution_count": null,
      "outputs": []
    },
    {
      "cell_type": "markdown",
      "metadata": {
        "id": "5DbACESjYxpV"
      },
      "source": [
        "**Task 4** - Check for missing values\n",
        "\n",
        "Let's check for missing values in each of these DataFrames: `cell_phones`, `population` and `geo_codes`\n",
        "\n",
        "* Check for missing values in the following DataFrames:\n",
        "    * assign the total number of missing values in `cell_phones` to the variable `cell_phones_missing`\n",
        "    * assign the total number of missing values in `population` to the variable `population_missing`\n",
        "    * assign the total number of missing values in `geo_codes` to the variable `geo_codes_missing` (Hint: you will need to do a sum of a sum here - `.sum().sum()`)"
      ]
    },
    {
      "cell_type": "code",
      "metadata": {
        "deletable": false,
        "id": "SwmSvUySJjXc",
        "nbgrader": {
          "cell_type": "code",
          "checksum": "b4ea8f9b909a45099743efb4879697c7",
          "grade": false,
          "grade_id": "cell-9426cd5765574e07",
          "locked": false,
          "schema_version": 3,
          "solution": true,
          "task": false
        },
        "colab": {
          "base_uri": "https://localhost:8080/"
        },
        "outputId": "d18aeb48-1b45-4880-a47b-9d52248a6caa"
      },
      "source": [
        "# Task 4\n",
        "\n",
        "# Check for missing data in each of the DataFrames\n",
        "\n",
        "# YOUR CODE HERE\n",
        "cell_phones_missing = cell_phones.isna().sum().sum()\n",
        "population_missing = population.isna().sum().sum()\n",
        "geo_codes_missing = geo_codes.isna().sum().sum()\n",
        "\n",
        "print('%i missing data for cell phones.' % cell_phones_missing) \n",
        "print('%i missing data for population.' % population_missing) \n",
        "print('%i missing data for geo codes.' % geo_codes_missing)\n"
      ],
      "execution_count": null,
      "outputs": [
        {
          "output_type": "stream",
          "text": [
            "0 missing data for cell phones.\n",
            "0 missing data for population.\n",
            "781 missing data for geo codes.\n"
          ],
          "name": "stdout"
        }
      ]
    },
    {
      "cell_type": "markdown",
      "metadata": {
        "id": "cREZV7g0aLGC"
      },
      "source": [
        "**Task 4 Test**"
      ]
    },
    {
      "cell_type": "code",
      "metadata": {
        "deletable": false,
        "editable": false,
        "id": "eaQwM15IaLGD",
        "nbgrader": {
          "cell_type": "code",
          "checksum": "e03a86fcc6bfd5f48fa501f9d29870e7",
          "grade": true,
          "grade_id": "cell-cf6ab3b4b1e8afc1",
          "locked": true,
          "points": 1,
          "schema_version": 3,
          "solution": false,
          "task": false
        }
      },
      "source": [
        "# Task 4 - Test\n",
        "\n",
        "if geo_codes_missing == 21: print('ERROR: Make sure to use a sum of a sum for the missing geo codes!')  \n",
        "\n",
        "# Hidden tests - you will see the results when you submit to Canvas"
      ],
      "execution_count": null,
      "outputs": []
    },
    {
      "cell_type": "markdown",
      "metadata": {
        "id": "P54itLGveF5p"
      },
      "source": [
        "**Task 5** - Merge the `cell_phones` and `population` DataFrames.\n",
        "\n",
        "* Merge the `cell_phones` and `population` dataframes with an **inner** merge on `geo` and `time`\n",
        "* Call the resulting dataframe `cell_phone_population`"
      ]
    },
    {
      "cell_type": "code",
      "metadata": {
        "deletable": false,
        "id": "KL_NCL7heF51",
        "nbgrader": {
          "cell_type": "code",
          "checksum": "01f359418133f448ed26182a8d16205f",
          "grade": false,
          "grade_id": "cell-decaebaa844aa3a5",
          "locked": false,
          "schema_version": 3,
          "solution": true,
          "task": false
        },
        "colab": {
          "base_uri": "https://localhost:8080/",
          "height": 206
        },
        "outputId": "982c0331-824e-4d01-d92f-9c096b80ea48"
      },
      "source": [
        "# Task 5\n",
        "\n",
        "# Merge the cell_phones and population dataframes\n",
        "\n",
        "# YOUR CODE HERE\n",
        "#Merging cell phones and population. cell_phones is on left, but doesn't matter because of inner merge. inner merge is default.\n",
        "#use inner so we don't have any NaN values\n",
        "cell_phone_population = pd.merge(cell_phones, population)\n",
        "\n",
        "#since we want to merge only values whose geo and time values both match, I don't specify a single column for 'how'\n",
        "cell_phone_population.head() #looking at resulting DF\n",
        "\n",
        "#print(len(cell_phone_population)) #cheating by reading code for Task 5 test\n",
        "\n",
        "#cell_phone_population.isna().sum() #making sure no NaN"
      ],
      "execution_count": null,
      "outputs": [
        {
          "output_type": "execute_result",
          "data": {
            "text/html": [
              "<div>\n",
              "<style scoped>\n",
              "    .dataframe tbody tr th:only-of-type {\n",
              "        vertical-align: middle;\n",
              "    }\n",
              "\n",
              "    .dataframe tbody tr th {\n",
              "        vertical-align: top;\n",
              "    }\n",
              "\n",
              "    .dataframe thead th {\n",
              "        text-align: right;\n",
              "    }\n",
              "</style>\n",
              "<table border=\"1\" class=\"dataframe\">\n",
              "  <thead>\n",
              "    <tr style=\"text-align: right;\">\n",
              "      <th></th>\n",
              "      <th>geo</th>\n",
              "      <th>time</th>\n",
              "      <th>cell_phones_total</th>\n",
              "      <th>population_total</th>\n",
              "    </tr>\n",
              "  </thead>\n",
              "  <tbody>\n",
              "    <tr>\n",
              "      <th>0</th>\n",
              "      <td>afg</td>\n",
              "      <td>1960</td>\n",
              "      <td>0.0</td>\n",
              "      <td>8996967</td>\n",
              "    </tr>\n",
              "    <tr>\n",
              "      <th>1</th>\n",
              "      <td>afg</td>\n",
              "      <td>1965</td>\n",
              "      <td>0.0</td>\n",
              "      <td>9956318</td>\n",
              "    </tr>\n",
              "    <tr>\n",
              "      <th>2</th>\n",
              "      <td>afg</td>\n",
              "      <td>1970</td>\n",
              "      <td>0.0</td>\n",
              "      <td>11173654</td>\n",
              "    </tr>\n",
              "    <tr>\n",
              "      <th>3</th>\n",
              "      <td>afg</td>\n",
              "      <td>1975</td>\n",
              "      <td>0.0</td>\n",
              "      <td>12689164</td>\n",
              "    </tr>\n",
              "    <tr>\n",
              "      <th>4</th>\n",
              "      <td>afg</td>\n",
              "      <td>1976</td>\n",
              "      <td>0.0</td>\n",
              "      <td>12943093</td>\n",
              "    </tr>\n",
              "  </tbody>\n",
              "</table>\n",
              "</div>"
            ],
            "text/plain": [
              "   geo  time  cell_phones_total  population_total\n",
              "0  afg  1960                0.0           8996967\n",
              "1  afg  1965                0.0           9956318\n",
              "2  afg  1970                0.0          11173654\n",
              "3  afg  1975                0.0          12689164\n",
              "4  afg  1976                0.0          12943093"
            ]
          },
          "metadata": {
            "tags": []
          },
          "execution_count": 262
        }
      ]
    },
    {
      "cell_type": "markdown",
      "metadata": {
        "id": "9vFSumbkfqr_"
      },
      "source": [
        "**Task 5 Test**"
      ]
    },
    {
      "cell_type": "code",
      "metadata": {
        "deletable": false,
        "editable": false,
        "id": "85-p_0UGfkZJ",
        "nbgrader": {
          "cell_type": "code",
          "checksum": "7a6362a6a1f740d69ce8dd46909a8f60",
          "grade": true,
          "grade_id": "cell-dd2473ea91f15f30",
          "locked": true,
          "points": 1,
          "schema_version": 3,
          "solution": false,
          "task": false
        }
      },
      "source": [
        "# Task 5 - Test\n",
        "\n",
        "assert cell_phone_population is not None, 'Have you merged created a DataFrame named cell_phone_population?'\n",
        "assert len(cell_phone_population) == 8930\n"
      ],
      "execution_count": null,
      "outputs": []
    },
    {
      "cell_type": "markdown",
      "metadata": {
        "id": "oByYSkC7hB05"
      },
      "source": [
        "**Task 6** - Merge the `cell_phone_population` and `geo_codes` DataFrames\n",
        "\n",
        "* Merge the `cell_phone_population` and `geo_codes` DataFrames with an inner merge on `geo`\n",
        "* **Only merge in the `country` and `geo` columns from `geo_codes`**\n",
        "* Call the resulting DataFrame `geo_cell_phone_population`\n"
      ]
    },
    {
      "cell_type": "code",
      "metadata": {
        "deletable": false,
        "id": "NcO8-JpQhB1F",
        "nbgrader": {
          "cell_type": "code",
          "checksum": "2ab46a540b8b1d7861195ae9d24c5c20",
          "grade": false,
          "grade_id": "cell-1ce5a2360ee6fd20",
          "locked": false,
          "schema_version": 3,
          "solution": true,
          "task": false
        },
        "colab": {
          "base_uri": "https://localhost:8080/"
        },
        "outputId": "aeb9c430-2cc6-4f6d-c9a4-fa30b071fb78"
      },
      "source": [
        "# Task 6\n",
        "\n",
        "# Merge the cell_phone_population and geo_codes dataframes\n",
        "# Only include the country and geo columns from geo_codes\n",
        "\n",
        "# YOUR CODE HERE\n",
        "#make smaller DF with only columns we want to merge\n",
        "geo_sm = geo_codes[['geo', 'country']].copy()\n",
        "\n",
        "#merge on common column, use inner since don't want any NaN values\n",
        "geo_cell_phone_population = pd.merge(cell_phone_population, geo_sm, on = 'geo')\n",
        "\n",
        "#check for errors\n",
        "print(geo_sm.head())\n",
        "print(len(geo_cell_phone_population))\n",
        "geo_cell_phone_population.isna().sum()"
      ],
      "execution_count": null,
      "outputs": [
        {
          "output_type": "stream",
          "text": [
            "    geo      country\n",
            "0  abkh     Abkhazia\n",
            "1   abw        Aruba\n",
            "2   afg  Afghanistan\n",
            "3   ago       Angola\n",
            "4   aia     Anguilla\n",
            "8930\n"
          ],
          "name": "stdout"
        },
        {
          "output_type": "execute_result",
          "data": {
            "text/plain": [
              "geo                  0\n",
              "time                 0\n",
              "cell_phones_total    0\n",
              "population_total     0\n",
              "country              0\n",
              "dtype: int64"
            ]
          },
          "metadata": {
            "tags": []
          },
          "execution_count": 264
        }
      ]
    },
    {
      "cell_type": "code",
      "metadata": {
        "colab": {
          "base_uri": "https://localhost:8080/",
          "height": 206
        },
        "id": "9Vujur0PpyjM",
        "outputId": "77521343-fe48-4c3d-d992-cc4f2eb39fa3"
      },
      "source": [
        "geo_cell_phone_population.head()"
      ],
      "execution_count": null,
      "outputs": [
        {
          "output_type": "execute_result",
          "data": {
            "text/html": [
              "<div>\n",
              "<style scoped>\n",
              "    .dataframe tbody tr th:only-of-type {\n",
              "        vertical-align: middle;\n",
              "    }\n",
              "\n",
              "    .dataframe tbody tr th {\n",
              "        vertical-align: top;\n",
              "    }\n",
              "\n",
              "    .dataframe thead th {\n",
              "        text-align: right;\n",
              "    }\n",
              "</style>\n",
              "<table border=\"1\" class=\"dataframe\">\n",
              "  <thead>\n",
              "    <tr style=\"text-align: right;\">\n",
              "      <th></th>\n",
              "      <th>geo</th>\n",
              "      <th>time</th>\n",
              "      <th>cell_phones_total</th>\n",
              "      <th>population_total</th>\n",
              "      <th>country</th>\n",
              "    </tr>\n",
              "  </thead>\n",
              "  <tbody>\n",
              "    <tr>\n",
              "      <th>0</th>\n",
              "      <td>afg</td>\n",
              "      <td>1960</td>\n",
              "      <td>0.0</td>\n",
              "      <td>8996967</td>\n",
              "      <td>Afghanistan</td>\n",
              "    </tr>\n",
              "    <tr>\n",
              "      <th>1</th>\n",
              "      <td>afg</td>\n",
              "      <td>1965</td>\n",
              "      <td>0.0</td>\n",
              "      <td>9956318</td>\n",
              "      <td>Afghanistan</td>\n",
              "    </tr>\n",
              "    <tr>\n",
              "      <th>2</th>\n",
              "      <td>afg</td>\n",
              "      <td>1970</td>\n",
              "      <td>0.0</td>\n",
              "      <td>11173654</td>\n",
              "      <td>Afghanistan</td>\n",
              "    </tr>\n",
              "    <tr>\n",
              "      <th>3</th>\n",
              "      <td>afg</td>\n",
              "      <td>1975</td>\n",
              "      <td>0.0</td>\n",
              "      <td>12689164</td>\n",
              "      <td>Afghanistan</td>\n",
              "    </tr>\n",
              "    <tr>\n",
              "      <th>4</th>\n",
              "      <td>afg</td>\n",
              "      <td>1976</td>\n",
              "      <td>0.0</td>\n",
              "      <td>12943093</td>\n",
              "      <td>Afghanistan</td>\n",
              "    </tr>\n",
              "  </tbody>\n",
              "</table>\n",
              "</div>"
            ],
            "text/plain": [
              "   geo  time  cell_phones_total  population_total      country\n",
              "0  afg  1960                0.0           8996967  Afghanistan\n",
              "1  afg  1965                0.0           9956318  Afghanistan\n",
              "2  afg  1970                0.0          11173654  Afghanistan\n",
              "3  afg  1975                0.0          12689164  Afghanistan\n",
              "4  afg  1976                0.0          12943093  Afghanistan"
            ]
          },
          "metadata": {
            "tags": []
          },
          "execution_count": 265
        }
      ]
    },
    {
      "cell_type": "markdown",
      "metadata": {
        "id": "zAKDLSV-hB1G"
      },
      "source": [
        "**Task 6 Test**"
      ]
    },
    {
      "cell_type": "code",
      "metadata": {
        "deletable": false,
        "editable": false,
        "id": "eQgHSsLihB1G",
        "nbgrader": {
          "cell_type": "code",
          "checksum": "adeec7312d967b89937e1487322747a5",
          "grade": true,
          "grade_id": "cell-764d5b72ae382339",
          "locked": true,
          "points": 1,
          "schema_version": 3,
          "solution": false,
          "task": false
        }
      },
      "source": [
        "# Task 6 - Test\n",
        "\n",
        "assert geo_cell_phone_population is not None, 'Have you created a DataFrame named geo_cell_phone_population?\n",
        "assert len(geo_cell_phone_population) == 8930\n"
      ],
      "execution_count": null,
      "outputs": []
    },
    {
      "cell_type": "markdown",
      "metadata": {
        "id": "-CZF39BWivc2"
      },
      "source": [
        "**Task 7** - Calculate the number of cell phones per person.\n",
        "\n",
        "* Use the `cell_phones_total` and `population_total` columns to calculate the number of cell phones per person for each country and year.\n",
        "* Call this new feature (column) `phones_per_person` and add it to the `geo_cell_phone_population` DataFrame (you'll be adding the column to the DataFrame).\n"
      ]
    },
    {
      "cell_type": "code",
      "metadata": {
        "deletable": false,
        "id": "vBeXa3LTivdC",
        "nbgrader": {
          "cell_type": "code",
          "checksum": "196f7d476b4d811188e62e70b4d5a219",
          "grade": false,
          "grade_id": "cell-bd0bce2920604643",
          "locked": false,
          "schema_version": 3,
          "solution": true,
          "task": false
        },
        "colab": {
          "base_uri": "https://localhost:8080/",
          "height": 798
        },
        "outputId": "2aebc3b7-118c-4e9e-9287-e72b99a843ad"
      },
      "source": [
        "# Task 7\n",
        "\n",
        "# Calculate the number of cell phones per person for each country and year.\n",
        "\n",
        "# YOUR CODE HERE\n",
        "#create a new column, phones per person = total cell phones / total population\n",
        "geo_cell_phone_population['phones_per_person'] = geo_cell_phone_population['cell_phones_total'] / geo_cell_phone_population['population_total']\n",
        "\n",
        "#check for errors\n",
        "print(geo_cell_phone_population.isna().sum())\n",
        "geo_cell_phone_population.head(20)\n",
        "geo_cell_phone_population.tail(20)"
      ],
      "execution_count": null,
      "outputs": [
        {
          "output_type": "stream",
          "text": [
            "geo                  0\n",
            "time                 0\n",
            "cell_phones_total    0\n",
            "population_total     0\n",
            "country              0\n",
            "phones_per_person    0\n",
            "dtype: int64\n"
          ],
          "name": "stdout"
        },
        {
          "output_type": "execute_result",
          "data": {
            "text/html": [
              "<div>\n",
              "<style scoped>\n",
              "    .dataframe tbody tr th:only-of-type {\n",
              "        vertical-align: middle;\n",
              "    }\n",
              "\n",
              "    .dataframe tbody tr th {\n",
              "        vertical-align: top;\n",
              "    }\n",
              "\n",
              "    .dataframe thead th {\n",
              "        text-align: right;\n",
              "    }\n",
              "</style>\n",
              "<table border=\"1\" class=\"dataframe\">\n",
              "  <thead>\n",
              "    <tr style=\"text-align: right;\">\n",
              "      <th></th>\n",
              "      <th>geo</th>\n",
              "      <th>time</th>\n",
              "      <th>cell_phones_total</th>\n",
              "      <th>population_total</th>\n",
              "      <th>country</th>\n",
              "      <th>phones_per_person</th>\n",
              "    </tr>\n",
              "  </thead>\n",
              "  <tbody>\n",
              "    <tr>\n",
              "      <th>8910</th>\n",
              "      <td>zwe</td>\n",
              "      <td>2000</td>\n",
              "      <td>266441.0</td>\n",
              "      <td>11881482</td>\n",
              "      <td>Zimbabwe</td>\n",
              "      <td>0.022425</td>\n",
              "    </tr>\n",
              "    <tr>\n",
              "      <th>8911</th>\n",
              "      <td>zwe</td>\n",
              "      <td>2001</td>\n",
              "      <td>314002.0</td>\n",
              "      <td>11923906</td>\n",
              "      <td>Zimbabwe</td>\n",
              "      <td>0.026334</td>\n",
              "    </tr>\n",
              "    <tr>\n",
              "      <th>8912</th>\n",
              "      <td>zwe</td>\n",
              "      <td>2002</td>\n",
              "      <td>338779.0</td>\n",
              "      <td>11954293</td>\n",
              "      <td>Zimbabwe</td>\n",
              "      <td>0.028340</td>\n",
              "    </tr>\n",
              "    <tr>\n",
              "      <th>8913</th>\n",
              "      <td>zwe</td>\n",
              "      <td>2003</td>\n",
              "      <td>363651.0</td>\n",
              "      <td>11982219</td>\n",
              "      <td>Zimbabwe</td>\n",
              "      <td>0.030349</td>\n",
              "    </tr>\n",
              "    <tr>\n",
              "      <th>8914</th>\n",
              "      <td>zwe</td>\n",
              "      <td>2004</td>\n",
              "      <td>425745.0</td>\n",
              "      <td>12019911</td>\n",
              "      <td>Zimbabwe</td>\n",
              "      <td>0.035420</td>\n",
              "    </tr>\n",
              "    <tr>\n",
              "      <th>8915</th>\n",
              "      <td>zwe</td>\n",
              "      <td>2005</td>\n",
              "      <td>647110.0</td>\n",
              "      <td>12076697</td>\n",
              "      <td>Zimbabwe</td>\n",
              "      <td>0.053583</td>\n",
              "    </tr>\n",
              "    <tr>\n",
              "      <th>8916</th>\n",
              "      <td>zwe</td>\n",
              "      <td>2006</td>\n",
              "      <td>849146.0</td>\n",
              "      <td>12155496</td>\n",
              "      <td>Zimbabwe</td>\n",
              "      <td>0.069857</td>\n",
              "    </tr>\n",
              "    <tr>\n",
              "      <th>8917</th>\n",
              "      <td>zwe</td>\n",
              "      <td>2007</td>\n",
              "      <td>1225654.0</td>\n",
              "      <td>12255920</td>\n",
              "      <td>Zimbabwe</td>\n",
              "      <td>0.100005</td>\n",
              "    </tr>\n",
              "    <tr>\n",
              "      <th>8918</th>\n",
              "      <td>zwe</td>\n",
              "      <td>2008</td>\n",
              "      <td>1654721.0</td>\n",
              "      <td>12379553</td>\n",
              "      <td>Zimbabwe</td>\n",
              "      <td>0.133666</td>\n",
              "    </tr>\n",
              "    <tr>\n",
              "      <th>8919</th>\n",
              "      <td>zwe</td>\n",
              "      <td>2009</td>\n",
              "      <td>3991000.0</td>\n",
              "      <td>12526964</td>\n",
              "      <td>Zimbabwe</td>\n",
              "      <td>0.318593</td>\n",
              "    </tr>\n",
              "    <tr>\n",
              "      <th>8920</th>\n",
              "      <td>zwe</td>\n",
              "      <td>2010</td>\n",
              "      <td>7700000.0</td>\n",
              "      <td>12697728</td>\n",
              "      <td>Zimbabwe</td>\n",
              "      <td>0.606408</td>\n",
              "    </tr>\n",
              "    <tr>\n",
              "      <th>8921</th>\n",
              "      <td>zwe</td>\n",
              "      <td>2011</td>\n",
              "      <td>9200000.0</td>\n",
              "      <td>12894323</td>\n",
              "      <td>Zimbabwe</td>\n",
              "      <td>0.713492</td>\n",
              "    </tr>\n",
              "    <tr>\n",
              "      <th>8922</th>\n",
              "      <td>zwe</td>\n",
              "      <td>2012</td>\n",
              "      <td>12613935.0</td>\n",
              "      <td>13115149</td>\n",
              "      <td>Zimbabwe</td>\n",
              "      <td>0.961784</td>\n",
              "    </tr>\n",
              "    <tr>\n",
              "      <th>8923</th>\n",
              "      <td>zwe</td>\n",
              "      <td>2013</td>\n",
              "      <td>13633167.0</td>\n",
              "      <td>13350378</td>\n",
              "      <td>Zimbabwe</td>\n",
              "      <td>1.021182</td>\n",
              "    </tr>\n",
              "    <tr>\n",
              "      <th>8924</th>\n",
              "      <td>zwe</td>\n",
              "      <td>2014</td>\n",
              "      <td>11798652.0</td>\n",
              "      <td>13586710</td>\n",
              "      <td>Zimbabwe</td>\n",
              "      <td>0.868397</td>\n",
              "    </tr>\n",
              "    <tr>\n",
              "      <th>8925</th>\n",
              "      <td>zwe</td>\n",
              "      <td>2015</td>\n",
              "      <td>12757410.0</td>\n",
              "      <td>13814642</td>\n",
              "      <td>Zimbabwe</td>\n",
              "      <td>0.923470</td>\n",
              "    </tr>\n",
              "    <tr>\n",
              "      <th>8926</th>\n",
              "      <td>zwe</td>\n",
              "      <td>2016</td>\n",
              "      <td>12878926.0</td>\n",
              "      <td>14030338</td>\n",
              "      <td>Zimbabwe</td>\n",
              "      <td>0.917934</td>\n",
              "    </tr>\n",
              "    <tr>\n",
              "      <th>8927</th>\n",
              "      <td>zwe</td>\n",
              "      <td>2017</td>\n",
              "      <td>14092104.0</td>\n",
              "      <td>14236599</td>\n",
              "      <td>Zimbabwe</td>\n",
              "      <td>0.989850</td>\n",
              "    </tr>\n",
              "    <tr>\n",
              "      <th>8928</th>\n",
              "      <td>zwe</td>\n",
              "      <td>2018</td>\n",
              "      <td>12908992.0</td>\n",
              "      <td>14438812</td>\n",
              "      <td>Zimbabwe</td>\n",
              "      <td>0.894048</td>\n",
              "    </tr>\n",
              "    <tr>\n",
              "      <th>8929</th>\n",
              "      <td>zwe</td>\n",
              "      <td>2019</td>\n",
              "      <td>13195902.0</td>\n",
              "      <td>14645473</td>\n",
              "      <td>Zimbabwe</td>\n",
              "      <td>0.901023</td>\n",
              "    </tr>\n",
              "  </tbody>\n",
              "</table>\n",
              "</div>"
            ],
            "text/plain": [
              "      geo  time  ...   country  phones_per_person\n",
              "8910  zwe  2000  ...  Zimbabwe           0.022425\n",
              "8911  zwe  2001  ...  Zimbabwe           0.026334\n",
              "8912  zwe  2002  ...  Zimbabwe           0.028340\n",
              "8913  zwe  2003  ...  Zimbabwe           0.030349\n",
              "8914  zwe  2004  ...  Zimbabwe           0.035420\n",
              "8915  zwe  2005  ...  Zimbabwe           0.053583\n",
              "8916  zwe  2006  ...  Zimbabwe           0.069857\n",
              "8917  zwe  2007  ...  Zimbabwe           0.100005\n",
              "8918  zwe  2008  ...  Zimbabwe           0.133666\n",
              "8919  zwe  2009  ...  Zimbabwe           0.318593\n",
              "8920  zwe  2010  ...  Zimbabwe           0.606408\n",
              "8921  zwe  2011  ...  Zimbabwe           0.713492\n",
              "8922  zwe  2012  ...  Zimbabwe           0.961784\n",
              "8923  zwe  2013  ...  Zimbabwe           1.021182\n",
              "8924  zwe  2014  ...  Zimbabwe           0.868397\n",
              "8925  zwe  2015  ...  Zimbabwe           0.923470\n",
              "8926  zwe  2016  ...  Zimbabwe           0.917934\n",
              "8927  zwe  2017  ...  Zimbabwe           0.989850\n",
              "8928  zwe  2018  ...  Zimbabwe           0.894048\n",
              "8929  zwe  2019  ...  Zimbabwe           0.901023\n",
              "\n",
              "[20 rows x 6 columns]"
            ]
          },
          "metadata": {
            "tags": []
          },
          "execution_count": 267
        }
      ]
    },
    {
      "cell_type": "markdown",
      "metadata": {
        "id": "4IiDB6f6ivdD"
      },
      "source": [
        "**Task 7 Test**"
      ]
    },
    {
      "cell_type": "code",
      "metadata": {
        "deletable": false,
        "editable": false,
        "id": "L3UgjCfFivdD",
        "nbgrader": {
          "cell_type": "code",
          "checksum": "69eda2b0addf7a8ecc742810ad988bc4",
          "grade": true,
          "grade_id": "cell-45c955c43e471400",
          "locked": true,
          "points": 1,
          "schema_version": 3,
          "solution": false,
          "task": false
        }
      },
      "source": [
        "# Task 7 - Test\n",
        "\n",
        "# Hidden tests - you will see the results when you submit to Canvas"
      ],
      "execution_count": null,
      "outputs": []
    },
    {
      "cell_type": "code",
      "metadata": {
        "colab": {
          "base_uri": "https://localhost:8080/",
          "height": 363
        },
        "id": "6gxzoaVpvYfb",
        "outputId": "aae2dd60-04ad-46cb-f580-b20ff59624b6"
      },
      "source": [
        "new_geo_us = new_geo[ new_geo['geo'] == 'usa']\n",
        "new_geo_us.tail(10)"
      ],
      "execution_count": 347,
      "outputs": [
        {
          "output_type": "execute_result",
          "data": {
            "text/html": [
              "<div>\n",
              "<style scoped>\n",
              "    .dataframe tbody tr th:only-of-type {\n",
              "        vertical-align: middle;\n",
              "    }\n",
              "\n",
              "    .dataframe tbody tr th {\n",
              "        vertical-align: top;\n",
              "    }\n",
              "\n",
              "    .dataframe thead th {\n",
              "        text-align: right;\n",
              "    }\n",
              "</style>\n",
              "<table border=\"1\" class=\"dataframe\">\n",
              "  <thead>\n",
              "    <tr style=\"text-align: right;\">\n",
              "      <th></th>\n",
              "      <th>geo</th>\n",
              "      <th>time</th>\n",
              "      <th>cell_phones_total</th>\n",
              "      <th>population_total</th>\n",
              "      <th>country</th>\n",
              "      <th>phones_per_person</th>\n",
              "      <th>change_in_population</th>\n",
              "      <th>change_in_phones</th>\n",
              "      <th>change_in_phones_per_person</th>\n",
              "    </tr>\n",
              "  </thead>\n",
              "  <tbody>\n",
              "    <tr>\n",
              "      <th>8447</th>\n",
              "      <td>usa</td>\n",
              "      <td>2009</td>\n",
              "      <td>274283000.0</td>\n",
              "      <td>306307565</td>\n",
              "      <td>United States</td>\n",
              "      <td>0.895450</td>\n",
              "      <td>2821543.0</td>\n",
              "      <td>12983000.0</td>\n",
              "      <td>0.034454</td>\n",
              "    </tr>\n",
              "    <tr>\n",
              "      <th>8448</th>\n",
              "      <td>usa</td>\n",
              "      <td>2010</td>\n",
              "      <td>285118000.0</td>\n",
              "      <td>309011469</td>\n",
              "      <td>United States</td>\n",
              "      <td>0.922678</td>\n",
              "      <td>2703904.0</td>\n",
              "      <td>10835000.0</td>\n",
              "      <td>0.027228</td>\n",
              "    </tr>\n",
              "    <tr>\n",
              "      <th>8449</th>\n",
              "      <td>usa</td>\n",
              "      <td>2011</td>\n",
              "      <td>297404000.0</td>\n",
              "      <td>311584051</td>\n",
              "      <td>United States</td>\n",
              "      <td>0.954490</td>\n",
              "      <td>2572582.0</td>\n",
              "      <td>12286000.0</td>\n",
              "      <td>0.031813</td>\n",
              "    </tr>\n",
              "    <tr>\n",
              "      <th>8450</th>\n",
              "      <td>usa</td>\n",
              "      <td>2012</td>\n",
              "      <td>304838000.0</td>\n",
              "      <td>314043885</td>\n",
              "      <td>United States</td>\n",
              "      <td>0.970686</td>\n",
              "      <td>2459834.0</td>\n",
              "      <td>7434000.0</td>\n",
              "      <td>0.016196</td>\n",
              "    </tr>\n",
              "    <tr>\n",
              "      <th>8451</th>\n",
              "      <td>usa</td>\n",
              "      <td>2013</td>\n",
              "      <td>310698000.0</td>\n",
              "      <td>316400539</td>\n",
              "      <td>United States</td>\n",
              "      <td>0.981977</td>\n",
              "      <td>2356654.0</td>\n",
              "      <td>5860000.0</td>\n",
              "      <td>0.011291</td>\n",
              "    </tr>\n",
              "    <tr>\n",
              "      <th>8452</th>\n",
              "      <td>usa</td>\n",
              "      <td>2014</td>\n",
              "      <td>355500000.0</td>\n",
              "      <td>318673422</td>\n",
              "      <td>United States</td>\n",
              "      <td>1.115562</td>\n",
              "      <td>2272883.0</td>\n",
              "      <td>44802000.0</td>\n",
              "      <td>0.133585</td>\n",
              "    </tr>\n",
              "    <tr>\n",
              "      <th>8453</th>\n",
              "      <td>usa</td>\n",
              "      <td>2015</td>\n",
              "      <td>382307000.0</td>\n",
              "      <td>320878312</td>\n",
              "      <td>United States</td>\n",
              "      <td>1.191439</td>\n",
              "      <td>2204890.0</td>\n",
              "      <td>26807000.0</td>\n",
              "      <td>0.075877</td>\n",
              "    </tr>\n",
              "    <tr>\n",
              "      <th>8454</th>\n",
              "      <td>usa</td>\n",
              "      <td>2016</td>\n",
              "      <td>396000000.0</td>\n",
              "      <td>323015992</td>\n",
              "      <td>United States</td>\n",
              "      <td>1.225945</td>\n",
              "      <td>2137680.0</td>\n",
              "      <td>13693000.0</td>\n",
              "      <td>0.034506</td>\n",
              "    </tr>\n",
              "    <tr>\n",
              "      <th>8455</th>\n",
              "      <td>usa</td>\n",
              "      <td>2017</td>\n",
              "      <td>400000000.0</td>\n",
              "      <td>325084758</td>\n",
              "      <td>United States</td>\n",
              "      <td>1.230448</td>\n",
              "      <td>2068766.0</td>\n",
              "      <td>4000000.0</td>\n",
              "      <td>0.004503</td>\n",
              "    </tr>\n",
              "    <tr>\n",
              "      <th>8456</th>\n",
              "      <td>usa</td>\n",
              "      <td>2018</td>\n",
              "      <td>422000000.0</td>\n",
              "      <td>327096263</td>\n",
              "      <td>United States</td>\n",
              "      <td>1.290140</td>\n",
              "      <td>2011505.0</td>\n",
              "      <td>22000000.0</td>\n",
              "      <td>0.059692</td>\n",
              "    </tr>\n",
              "  </tbody>\n",
              "</table>\n",
              "</div>"
            ],
            "text/plain": [
              "      geo  time  ...  change_in_phones  change_in_phones_per_person\n",
              "8447  usa  2009  ...        12983000.0                     0.034454\n",
              "8448  usa  2010  ...        10835000.0                     0.027228\n",
              "8449  usa  2011  ...        12286000.0                     0.031813\n",
              "8450  usa  2012  ...         7434000.0                     0.016196\n",
              "8451  usa  2013  ...         5860000.0                     0.011291\n",
              "8452  usa  2014  ...        44802000.0                     0.133585\n",
              "8453  usa  2015  ...        26807000.0                     0.075877\n",
              "8454  usa  2016  ...        13693000.0                     0.034506\n",
              "8455  usa  2017  ...         4000000.0                     0.004503\n",
              "8456  usa  2018  ...        22000000.0                     0.059692\n",
              "\n",
              "[10 rows x 9 columns]"
            ]
          },
          "metadata": {
            "tags": []
          },
          "execution_count": 347
        }
      ]
    },
    {
      "cell_type": "markdown",
      "metadata": {
        "id": "b_CZNPZAlw71"
      },
      "source": [
        "**Task 8** - Identify the number of cell phones per person in the US in 2017\n",
        "\n",
        "* Write a line of code that will create a one-row subset of `geo_cell_phone_population` with data on cell phone ownership in the USA for the year 2017.\n",
        "* Call this subset DataFrame `US_2017`.\n",
        "* Print `US_2017`."
      ]
    },
    {
      "cell_type": "code",
      "metadata": {
        "deletable": false,
        "id": "Y0hRRvc1lw8B",
        "nbgrader": {
          "cell_type": "code",
          "checksum": "06541bfb6f35fd09043f837647a57085",
          "grade": false,
          "grade_id": "cell-665e83d11e594d90",
          "locked": false,
          "schema_version": 3,
          "solution": true,
          "task": false
        },
        "colab": {
          "base_uri": "https://localhost:8080/",
          "height": 81
        },
        "outputId": "6406d208-dc6b-448b-b11c-639d995266c1"
      },
      "source": [
        "# Task 8\n",
        "\n",
        "# Determine the number of cell phones per person in the US in 2017\n",
        "\n",
        "# YOUR CODE HERE\n",
        "#make new DF with only values for usa\n",
        "usa = geo_cell_phone_population[ geo_cell_phone_population['geo'] == 'usa']\n",
        "\n",
        "#take year 2017 from usa DF\n",
        "US_2017 = usa[ usa['time'] == 2017]\n",
        "# View the DataFrame\n",
        "US_2017"
      ],
      "execution_count": null,
      "outputs": [
        {
          "output_type": "execute_result",
          "data": {
            "text/html": [
              "<div>\n",
              "<style scoped>\n",
              "    .dataframe tbody tr th:only-of-type {\n",
              "        vertical-align: middle;\n",
              "    }\n",
              "\n",
              "    .dataframe tbody tr th {\n",
              "        vertical-align: top;\n",
              "    }\n",
              "\n",
              "    .dataframe thead th {\n",
              "        text-align: right;\n",
              "    }\n",
              "</style>\n",
              "<table border=\"1\" class=\"dataframe\">\n",
              "  <thead>\n",
              "    <tr style=\"text-align: right;\">\n",
              "      <th></th>\n",
              "      <th>geo</th>\n",
              "      <th>time</th>\n",
              "      <th>cell_phones_total</th>\n",
              "      <th>population_total</th>\n",
              "      <th>country</th>\n",
              "      <th>phones_per_person</th>\n",
              "    </tr>\n",
              "  </thead>\n",
              "  <tbody>\n",
              "    <tr>\n",
              "      <th>8455</th>\n",
              "      <td>usa</td>\n",
              "      <td>2017</td>\n",
              "      <td>400000000.0</td>\n",
              "      <td>325084758</td>\n",
              "      <td>United States</td>\n",
              "      <td>1.230448</td>\n",
              "    </tr>\n",
              "  </tbody>\n",
              "</table>\n",
              "</div>"
            ],
            "text/plain": [
              "      geo  time  ...        country  phones_per_person\n",
              "8455  usa  2017  ...  United States           1.230448\n",
              "\n",
              "[1 rows x 6 columns]"
            ]
          },
          "metadata": {
            "tags": []
          },
          "execution_count": 269
        }
      ]
    },
    {
      "cell_type": "markdown",
      "metadata": {
        "id": "mIDryQfKlw8C"
      },
      "source": [
        "**Task 8 Test**"
      ]
    },
    {
      "cell_type": "code",
      "metadata": {
        "deletable": false,
        "editable": false,
        "id": "wL0MypzFlw8C",
        "nbgrader": {
          "cell_type": "code",
          "checksum": "85364b4d30569406247e2c40cbd3b5ba",
          "grade": true,
          "grade_id": "cell-ea08fdda80cf9731",
          "locked": true,
          "points": 1,
          "schema_version": 3,
          "solution": false,
          "task": false
        }
      },
      "source": [
        "# Task 8 - Test\n",
        "\n",
        "# Hidden tests - you will see the results when you submit to Canvas"
      ],
      "execution_count": null,
      "outputs": []
    },
    {
      "cell_type": "markdown",
      "metadata": {
        "id": "HTl_zamAtfJa"
      },
      "source": [
        "**Task 9** - Describe the numeric variables in `geo_cell_phone_population`\n",
        "\n",
        "* Calculate the summary statistics for the quantitative variables in `geo_cell_phone_population` using `.describe()`.\n",
        "* Find the mean value for `phones_per_person` and assign it to the variable `mean_phones`. Define your value out to two decimal points.\n"
      ]
    },
    {
      "cell_type": "code",
      "metadata": {
        "deletable": false,
        "id": "HGKKIqAktfJn",
        "nbgrader": {
          "cell_type": "code",
          "checksum": "b96997337122d55fdcad18d453ee61fe",
          "grade": false,
          "grade_id": "cell-181c9805c52dfda8",
          "locked": false,
          "schema_version": 3,
          "solution": true,
          "task": false
        },
        "colab": {
          "base_uri": "https://localhost:8080/"
        },
        "outputId": "b7f4ca7b-c139-4bc1-e00c-93aa70483950"
      },
      "source": [
        "# Task 9\n",
        "\n",
        "# Calculate the summary statistics for the quantitative variables in geo_cell_phone_population using .describe()\n",
        "\n",
        "# YOUR CODE HERE\n",
        "info_cell = geo_cell_phone_population.describe()\n",
        "\n",
        "#I notice the describe already gives me mean phones. I look up how to access that value. \n",
        "mean_phones = info_cell.at['mean', 'phones_per_person']\n",
        "print(mean_phones)\n",
        "\n",
        "#I double-check\n",
        "mean_phones2 = geo_cell_phone_population['phones_per_person'].mean()\n",
        "print(mean_phones2)\n",
        "\n",
        "#Hooray!"
      ],
      "execution_count": null,
      "outputs": [
        {
          "output_type": "stream",
          "text": [
            "0.31136482560364825\n",
            "0.31136482560364825\n"
          ],
          "name": "stdout"
        }
      ]
    },
    {
      "cell_type": "markdown",
      "metadata": {
        "id": "4Nh0qP1ptfJn"
      },
      "source": [
        "**Task 9 Test**"
      ]
    },
    {
      "cell_type": "code",
      "metadata": {
        "deletable": false,
        "editable": false,
        "id": "cBZg6p1VtfJo",
        "nbgrader": {
          "cell_type": "code",
          "checksum": "a3b4089cf090bbb63a13a6ec44e93cf4",
          "grade": true,
          "grade_id": "cell-0a0cfb1ac7acc279",
          "locked": true,
          "points": 1,
          "schema_version": 3,
          "solution": false,
          "task": false
        }
      },
      "source": [
        "# Task 9 - Test\n",
        "\n",
        "# Hidden tests - you will see the results when you submit to Canvas"
      ],
      "execution_count": null,
      "outputs": []
    },
    {
      "cell_type": "markdown",
      "metadata": {
        "id": "fD4X6uNlvI6-"
      },
      "source": [
        "**Task 10** - Describe the categorical variables in `geo_cell_phone_population`\n",
        "\n",
        "* Calculate the summary statistics for the categorical variables in `geo_cell_phone_population` using `.describe(exclude='number')`.\n",
        "* Using these results, find the number of unique countries and assign it to the variable `unique_country`. Your value should be an integer."
      ]
    },
    {
      "cell_type": "code",
      "metadata": {
        "deletable": false,
        "id": "b52UT_HnvI7B",
        "nbgrader": {
          "cell_type": "code",
          "checksum": "2cd375c31946ee834750d93dfc49f568",
          "grade": false,
          "grade_id": "cell-07de5adb6a8b43bf",
          "locked": false,
          "schema_version": 3,
          "solution": true,
          "task": false
        },
        "colab": {
          "base_uri": "https://localhost:8080/"
        },
        "outputId": "609d6ed0-e894-4584-ca7d-e1a1aa6e4508"
      },
      "source": [
        "# Task 10\n",
        "\n",
        "# Calculate the summary statistics in geo_cell_phone_population using .describe(exclude='number')\n",
        "info_cat = geo_cell_phone_population.describe(exclude = 'number')\n",
        "\n",
        "# YOUR CODE HERE\n",
        "#Getting unique countries from our describe\n",
        "unique_country = info_cat.at['unique', 'country']\n",
        "print(unique_country)\n",
        "\n",
        "#double-check answer\n",
        "unique_country2 = len(geo_cell_phone_population['country'].unique())\n",
        "print(unique_country2)\n",
        "\n",
        "#Hooray!"
      ],
      "execution_count": null,
      "outputs": [
        {
          "output_type": "stream",
          "text": [
            "195\n",
            "195\n"
          ],
          "name": "stdout"
        }
      ]
    },
    {
      "cell_type": "markdown",
      "metadata": {
        "id": "OYqdBExNvI7C"
      },
      "source": [
        "**Task 10 Test**"
      ]
    },
    {
      "cell_type": "code",
      "metadata": {
        "deletable": false,
        "editable": false,
        "id": "Ul1sia9IvI7C",
        "nbgrader": {
          "cell_type": "code",
          "checksum": "b93a82914cb93f4cd174af721883200e",
          "grade": true,
          "grade_id": "cell-7672dd0b5f927ce7",
          "locked": true,
          "points": 1,
          "schema_version": 3,
          "solution": false,
          "task": false
        }
      },
      "source": [
        "# Task 10 - Test\n",
        "\n",
        "# Hidden tests - you will see the results when you submit to Canvas"
      ],
      "execution_count": null,
      "outputs": []
    },
    {
      "cell_type": "markdown",
      "metadata": {
        "id": "wBQCMGrkw69w"
      },
      "source": [
        "**Task 11** - Subset the DataFrame for 2017\n",
        "\n",
        "* Create a new dataframe called `df2017` that includes **only** records from `geo_cell_phone_population` that ocurred in 2017."
      ]
    },
    {
      "cell_type": "code",
      "metadata": {
        "deletable": false,
        "id": "_EKPYqW-w698",
        "nbgrader": {
          "cell_type": "code",
          "checksum": "0dbed80e18dc222395c342df229fb3ac",
          "grade": false,
          "grade_id": "cell-f3fa17e15b5174ac",
          "locked": false,
          "schema_version": 3,
          "solution": true,
          "task": false
        },
        "colab": {
          "base_uri": "https://localhost:8080/"
        },
        "outputId": "b76d210a-6b71-4238-97f6-d06e33c3210c"
      },
      "source": [
        "# Task 11\n",
        "\n",
        "# Create a new dataframe called df2017 that includes only records from geo_cell_phone_population that ocurred in 2017.\n",
        "\n",
        "# YOUR CODE HERE\n",
        "#Make subset DF with only the year 2017\n",
        "df2017 = geo_cell_phone_population[ geo_cell_phone_population['time'] == 2017]\n",
        "\n",
        "#check for errors\n",
        "df2017.head() #only year 2017\n",
        "df2017.tail() #only year 2017\n",
        "df2017.isna().sum() #no NaN\n",
        "\n",
        "#print(len(df2017))\n",
        "#geo_cell_phone_population['time'].value_counts() \n",
        "#length of df2017 matches frequency of 2017 in original DF"
      ],
      "execution_count": null,
      "outputs": [
        {
          "output_type": "execute_result",
          "data": {
            "text/plain": [
              "geo                  0\n",
              "time                 0\n",
              "cell_phones_total    0\n",
              "population_total     0\n",
              "country              0\n",
              "phones_per_person    0\n",
              "dtype: int64"
            ]
          },
          "metadata": {
            "tags": []
          },
          "execution_count": 275
        }
      ]
    },
    {
      "cell_type": "markdown",
      "metadata": {
        "id": "QuLy4qwrw698"
      },
      "source": [
        "**Task 11 Test**"
      ]
    },
    {
      "cell_type": "code",
      "metadata": {
        "deletable": false,
        "editable": false,
        "id": "S0rU2pGWw698",
        "nbgrader": {
          "cell_type": "code",
          "checksum": "ef103ab0c8b09e083e94acbbb82229f6",
          "grade": true,
          "grade_id": "cell-b19a6956b5dddadb",
          "locked": true,
          "points": 1,
          "schema_version": 3,
          "solution": false,
          "task": false
        }
      },
      "source": [
        "# Task 11 - Test\n",
        "\n",
        "# Hidden tests - you will see the results when you submit to Canvas"
      ],
      "execution_count": null,
      "outputs": []
    },
    {
      "cell_type": "markdown",
      "metadata": {
        "id": "Rww_2EpHyd4K"
      },
      "source": [
        "**Task 12** - Identify the five countries with the most cell phones per person in 2017\n",
        "\n",
        "* Sort the `df2017` DataFrame by `phones_per_person` in descending order and assign the result to `df2017_top`. Your new DataFrame should only have **five** rows (Hint: use `.head()` to return only five rows).\n",
        "* Print the first 5 records of `df2017_top`."
      ]
    },
    {
      "cell_type": "code",
      "metadata": {
        "deletable": false,
        "id": "h6ym9Dwhyd4V",
        "nbgrader": {
          "cell_type": "code",
          "checksum": "e6a3dfe114beb003bf29f8bfb6aadbb7",
          "grade": false,
          "grade_id": "cell-c9b701bfe897edf5",
          "locked": false,
          "schema_version": 3,
          "solution": true,
          "task": false
        },
        "colab": {
          "base_uri": "https://localhost:8080/",
          "height": 206
        },
        "outputId": "426cb96a-d0f9-4bba-c255-90c8870edb99"
      },
      "source": [
        "# Task 12\n",
        "\n",
        "# Sort the df2017 dataframe by phones_per_person in descending order\n",
        "# Return only five (5) rows\n",
        "\n",
        "# YOUR CODE HERE\n",
        "#First, make sure values are properly sorted by phones per person, and check\n",
        "df2017_test = df2017.sort_values(by = 'phones_per_person', ascending = False)\n",
        "df2017_test.head() #looks good\n",
        "#df2017_test.tail() #looks good\n",
        "\n",
        "df2017_top = df2017_test.head()\n",
        "\n",
        "# View the df2017_top DataFrame\n",
        "df2017_top"
      ],
      "execution_count": null,
      "outputs": [
        {
          "output_type": "execute_result",
          "data": {
            "text/html": [
              "<div>\n",
              "<style scoped>\n",
              "    .dataframe tbody tr th:only-of-type {\n",
              "        vertical-align: middle;\n",
              "    }\n",
              "\n",
              "    .dataframe tbody tr th {\n",
              "        vertical-align: top;\n",
              "    }\n",
              "\n",
              "    .dataframe thead th {\n",
              "        text-align: right;\n",
              "    }\n",
              "</style>\n",
              "<table border=\"1\" class=\"dataframe\">\n",
              "  <thead>\n",
              "    <tr style=\"text-align: right;\">\n",
              "      <th></th>\n",
              "      <th>geo</th>\n",
              "      <th>time</th>\n",
              "      <th>cell_phones_total</th>\n",
              "      <th>population_total</th>\n",
              "      <th>country</th>\n",
              "      <th>phones_per_person</th>\n",
              "    </tr>\n",
              "  </thead>\n",
              "  <tbody>\n",
              "    <tr>\n",
              "      <th>3448</th>\n",
              "      <td>hkg</td>\n",
              "      <td>2017</td>\n",
              "      <td>18394762.0</td>\n",
              "      <td>7306315</td>\n",
              "      <td>Hong Kong, China</td>\n",
              "      <td>2.517652</td>\n",
              "    </tr>\n",
              "    <tr>\n",
              "      <th>227</th>\n",
              "      <td>are</td>\n",
              "      <td>2017</td>\n",
              "      <td>19826224.0</td>\n",
              "      <td>9487206</td>\n",
              "      <td>United Arab Emirates</td>\n",
              "      <td>2.089785</td>\n",
              "    </tr>\n",
              "    <tr>\n",
              "      <th>365</th>\n",
              "      <td>atg</td>\n",
              "      <td>2017</td>\n",
              "      <td>184000.0</td>\n",
              "      <td>95425</td>\n",
              "      <td>Antigua and Barbuda</td>\n",
              "      <td>1.928216</td>\n",
              "    </tr>\n",
              "    <tr>\n",
              "      <th>5253</th>\n",
              "      <td>mdv</td>\n",
              "      <td>2017</td>\n",
              "      <td>900120.0</td>\n",
              "      <td>496398</td>\n",
              "      <td>Maldives</td>\n",
              "      <td>1.813303</td>\n",
              "    </tr>\n",
              "    <tr>\n",
              "      <th>1937</th>\n",
              "      <td>cri</td>\n",
              "      <td>2017</td>\n",
              "      <td>8840342.0</td>\n",
              "      <td>4949955</td>\n",
              "      <td>Costa Rica</td>\n",
              "      <td>1.785944</td>\n",
              "    </tr>\n",
              "  </tbody>\n",
              "</table>\n",
              "</div>"
            ],
            "text/plain": [
              "      geo  time  ...               country  phones_per_person\n",
              "3448  hkg  2017  ...      Hong Kong, China           2.517652\n",
              "227   are  2017  ...  United Arab Emirates           2.089785\n",
              "365   atg  2017  ...   Antigua and Barbuda           1.928216\n",
              "5253  mdv  2017  ...              Maldives           1.813303\n",
              "1937  cri  2017  ...            Costa Rica           1.785944\n",
              "\n",
              "[5 rows x 6 columns]"
            ]
          },
          "metadata": {
            "tags": []
          },
          "execution_count": 277
        }
      ]
    },
    {
      "cell_type": "markdown",
      "metadata": {
        "id": "7WBox_Axyd4W"
      },
      "source": [
        "**Task 12 Test**"
      ]
    },
    {
      "cell_type": "code",
      "metadata": {
        "deletable": false,
        "editable": false,
        "id": "ePj-a6rLyd4W",
        "nbgrader": {
          "cell_type": "code",
          "checksum": "09132f37bbdc979478f298515ecb055d",
          "grade": true,
          "grade_id": "cell-5f6fffc9db1b9492",
          "locked": true,
          "points": 1,
          "schema_version": 3,
          "solution": false,
          "task": false
        }
      },
      "source": [
        ""
      ],
      "execution_count": null,
      "outputs": []
    },
    {
      "cell_type": "markdown",
      "metadata": {
        "id": "UthoeNABLwau"
      },
      "source": [
        "**Task 13** - Explain why the figure below **cannot** be graphed as a pie chart.\n"
      ]
    },
    {
      "cell_type": "code",
      "metadata": {
        "id": "oy9dt9l6Lz18",
        "colab": {
          "base_uri": "https://localhost:8080/",
          "height": 788
        },
        "outputId": "383771d6-b0e3-4877-9f69-6d60012debe2"
      },
      "source": [
        "from IPython.display import display, Image\n",
        "png = 'https://fivethirtyeight.com/wp-content/uploads/2014/04/hickey-ross-tags-1.png'\n",
        "example = Image(png, width=500)\n",
        "display(example)"
      ],
      "execution_count": null,
      "outputs": [
        {
          "output_type": "display_data",
          "data": {
            "image/png": "[encoded data removed]",
            "text/plain": [
              "<IPython.core.display.Image object>"
            ]
          },
          "metadata": {
            "tags": [],
            "image/png": {
              "width": 500
            }
          }
        }
      ]
    },
    {
      "cell_type": "markdown",
      "metadata": {
        "id": "SOlPMhhS1t_I"
      },
      "source": [
        "**Task 13 Question** - Explain why the figure cannot be graphed as a pie chart.\n",
        "\n",
        "*This task will not be autograded - but it is part of completing the challenge.*\n",
        "\n",
        "This cannot be graphed as a pie chart because there is immense overlap between the variables being represented - impossible to show using a pie chart. We know there is overlap because the sum of the percentages adds up to more than 100%."
      ]
    },
    {
      "cell_type": "markdown",
      "metadata": {
        "id": "bTBRunPy26LB"
      },
      "source": [
        "**Task 14** - Titanic dataset\n",
        "\n",
        "Use the following Titanic DataFrame to complete Task 14 - execute the cell to load the dataset."
      ]
    },
    {
      "cell_type": "code",
      "metadata": {
        "id": "ACKJZknZFG6y",
        "colab": {
          "base_uri": "https://localhost:8080/",
          "height": 206
        },
        "outputId": "e3d12e44-d6ba-4410-e9be-11d4139a647e"
      },
      "source": [
        "# Load the Titanic dataset from its URL:\n",
        "Titanic = pd.read_csv('https://raw.githubusercontent.com/LambdaSchool/data-science-practice-datasets/main/unit_1/Titanic/Titanic.csv')\n",
        "\n",
        "Titanic.head()"
      ],
      "execution_count": null,
      "outputs": [
        {
          "output_type": "execute_result",
          "data": {
            "text/html": [
              "<div>\n",
              "<style scoped>\n",
              "    .dataframe tbody tr th:only-of-type {\n",
              "        vertical-align: middle;\n",
              "    }\n",
              "\n",
              "    .dataframe tbody tr th {\n",
              "        vertical-align: top;\n",
              "    }\n",
              "\n",
              "    .dataframe thead th {\n",
              "        text-align: right;\n",
              "    }\n",
              "</style>\n",
              "<table border=\"1\" class=\"dataframe\">\n",
              "  <thead>\n",
              "    <tr style=\"text-align: right;\">\n",
              "      <th></th>\n",
              "      <th>Survived</th>\n",
              "      <th>Pclass</th>\n",
              "      <th>Name</th>\n",
              "      <th>Sex</th>\n",
              "      <th>Age</th>\n",
              "      <th>Siblings/Spouses_Aboard</th>\n",
              "      <th>Parents/Children_Aboard</th>\n",
              "      <th>Fare</th>\n",
              "    </tr>\n",
              "  </thead>\n",
              "  <tbody>\n",
              "    <tr>\n",
              "      <th>0</th>\n",
              "      <td>0</td>\n",
              "      <td>3</td>\n",
              "      <td>Mr. Owen Harris Braund</td>\n",
              "      <td>male</td>\n",
              "      <td>22.0</td>\n",
              "      <td>1</td>\n",
              "      <td>0</td>\n",
              "      <td>7.2500</td>\n",
              "    </tr>\n",
              "    <tr>\n",
              "      <th>1</th>\n",
              "      <td>1</td>\n",
              "      <td>1</td>\n",
              "      <td>Mrs. John Bradley (Florence Briggs Thayer) Cum...</td>\n",
              "      <td>female</td>\n",
              "      <td>38.0</td>\n",
              "      <td>1</td>\n",
              "      <td>0</td>\n",
              "      <td>71.2833</td>\n",
              "    </tr>\n",
              "    <tr>\n",
              "      <th>2</th>\n",
              "      <td>1</td>\n",
              "      <td>3</td>\n",
              "      <td>Miss. Laina Heikkinen</td>\n",
              "      <td>female</td>\n",
              "      <td>26.0</td>\n",
              "      <td>0</td>\n",
              "      <td>0</td>\n",
              "      <td>7.9250</td>\n",
              "    </tr>\n",
              "    <tr>\n",
              "      <th>3</th>\n",
              "      <td>1</td>\n",
              "      <td>1</td>\n",
              "      <td>Mrs. Jacques Heath (Lily May Peel) Futrelle</td>\n",
              "      <td>female</td>\n",
              "      <td>35.0</td>\n",
              "      <td>1</td>\n",
              "      <td>0</td>\n",
              "      <td>53.1000</td>\n",
              "    </tr>\n",
              "    <tr>\n",
              "      <th>4</th>\n",
              "      <td>0</td>\n",
              "      <td>3</td>\n",
              "      <td>Mr. William Henry Allen</td>\n",
              "      <td>male</td>\n",
              "      <td>35.0</td>\n",
              "      <td>0</td>\n",
              "      <td>0</td>\n",
              "      <td>8.0500</td>\n",
              "    </tr>\n",
              "  </tbody>\n",
              "</table>\n",
              "</div>"
            ],
            "text/plain": [
              "   Survived  Pclass  ... Parents/Children_Aboard     Fare\n",
              "0         0       3  ...                       0   7.2500\n",
              "1         1       1  ...                       0  71.2833\n",
              "2         1       3  ...                       0   7.9250\n",
              "3         1       1  ...                       0  53.1000\n",
              "4         0       3  ...                       0   8.0500\n",
              "\n",
              "[5 rows x 8 columns]"
            ]
          },
          "metadata": {
            "tags": []
          },
          "execution_count": 279
        }
      ]
    },
    {
      "cell_type": "markdown",
      "metadata": {
        "id": "UeiVHDA3vAX5"
      },
      "source": [
        "**Task 14** - Create a visualization to show the distribution of **Parents/Children_Aboard**.\n",
        "\n",
        "*This task will not be autograded - but it is part of completing the challenge.*"
      ]
    },
    {
      "cell_type": "code",
      "metadata": {
        "id": "jRvLPu2_vlZG",
        "colab": {
          "base_uri": "https://localhost:8080/",
          "height": 1000
        },
        "outputId": "7c5779dd-caee-48fc-f50c-225081041928"
      },
      "source": [
        "### YOUR CODE HERE ###\n",
        "#had to learn a lot of stuff to make graphs look nice\n",
        "import matplotlib.pyplot as plt\n",
        "import seaborn as sns\n",
        "\n",
        "#creating histogram\n",
        "sns.catplot(x = 'Siblings/Spouses_Aboard', data = Titanic, kind = 'count')\n",
        "\n",
        "plt.xlabel('Siblings and Spouses Aboard')\n",
        "plt.ylabel('Number of Passengers')\n",
        "plt.title('Siblings and Spouses Aboard for Passengers on the Titanic - Histogram')\n",
        "\n",
        "fig, ax = plt.subplots(3, figsize = (12,12))\n",
        "#graphs were crowded, looked up how to add space\n",
        "plt.subplots_adjust(left=0.125, bottom=0.1, right=0.9, top=1.5, wspace=0.2, hspace=0.2) \n",
        "\n",
        "\n",
        "counts = Titanic['Siblings/Spouses_Aboard'].value_counts().sort_index() #count values for pie chart\n",
        "#print(counts)\n",
        "counts2 = counts.reindex(range(9), fill_value = 0) #count values for linegraph\n",
        "#print(counts2)\n",
        "\n",
        "#creating line graph\n",
        "ax[0].plot(np.arange(9), counts2, linewidth = 0, marker = 'o', markerfacecolor = 'k')\n",
        "ax[0].plot(np.arange(9), counts2, 'b')\n",
        "ax[0].set_title('Siblings and Spouses Aboard for Passengers on the Titanic - Graph')\n",
        "ax[0].set_xlabel('Siblings and Spouses Aboard')\n",
        "ax[0].set_ylabel('Number of Passengers')\n",
        "ax[0].set_ylim([0,650])\n",
        "\n",
        "#creating pie chart\n",
        "ax[1].pie(counts, labels = counts.index, autopct = '%1.1f%%', explode = (0,0,1,1,1,1,1), startangle = 205)\n",
        "ax[1].set_title('Siblings and Spouses Aboard for Passengers on the Titanic - Pie Chart')\n",
        "\n",
        "#creating boxplot\n",
        "ax[2].boxplot(Titanic['Siblings/Spouses_Aboard'], vert = False)\n",
        "ax[2].set_xlabel('Siblings and Spouses Aboard')\n",
        "ax[2].set_yticklabels(' ')\n",
        "ax[2].set_title('Siblings and Spouses Aboard for Passengers on the Titanic - Box Plot')\n",
        "\n",
        "plt.show()\n",
        "\n",
        "#much wow. very graph. doge."
      ],
      "execution_count": null,
      "outputs": [
        {
          "output_type": "display_data",
          "data": {
            "image/png": "[encoded data removed]",
            "text/plain": [
              "<Figure size 360x360 with 1 Axes>"
            ]
          },
          "metadata": {
            "tags": [],
            "needs_background": "light"
          }
        },
        {
          "output_type": "display_data",
          "data": {
            "image/png": "[encoded data removed]",
            "text/plain": [
              "<Figure size 864x864 with 3 Axes>"
            ]
          },
          "metadata": {
            "tags": [],
            "needs_background": "light"
          }
        }
      ]
    },
    {
      "cell_type": "markdown",
      "metadata": {
        "id": "oOAPAy18vF9w"
      },
      "source": [
        "Describe the distribution of Parents/Children_Aboard."
      ]
    },
    {
      "cell_type": "markdown",
      "metadata": {
        "id": "uBVSewujjgpi"
      },
      "source": [
        "Right skewed unimodal"
      ]
    },
    {
      "cell_type": "code",
      "metadata": {
        "colab": {
          "base_uri": "https://localhost:8080/"
        },
        "id": "0-KK8E94eNOT",
        "outputId": "3dc052aa-e336-4898-9456-f61deadb56e5"
      },
      "source": [
        "#I looked at the rubric and decided to make a new feature to go \"Above and Beyond\"\n",
        "#I decided showing change in population, phones, and phones per person might be useful\n",
        "new_geo = geo_cell_phone_population\n",
        "#had to learn .diff()\n",
        "new_geo['change_in_population'] = new_geo['population_total'].diff()\n",
        "new_geo['change_in_phones'] = new_geo['cell_phones_total'].diff()\n",
        "new_geo['change_in_phones_per_person'] = new_geo['phones_per_person'].diff()\n",
        "new_geo.head()\n",
        "\n",
        "#great! Except every time a country changes, it will record a population change from the previous country\n",
        "#maybe all the data starts in the same year and I can just make my new columns 0 every time 1960 appears as the year?\n",
        "\n",
        "start_year = new_geo[new_geo['time'] == 1960]\n",
        "print(len(new_geo['country'].unique()))\n",
        "start_year.head()\n",
        "print(len(start_year))\n",
        "#no such luck. some countries' data must start after 1960. \n",
        "#also realized there might be data for before 1960, but probably not since cell phones didn't exist\n",
        "\n",
        "#these next few lines took hours to figure out\n",
        "for i in range(1, len(new_geo), 1):\n",
        "  if new_geo.at[i, 'country'] != new_geo.at[i-1, 'country']:\n",
        "    new_geo.at[i, 'change_in_population'] = np.nan\n",
        "    new_geo.at[i, 'change_in_phones'] = np.nan\n",
        "    new_geo.at[i, 'change_in_phones_per_person'] = np.nan\n",
        "#new_geo.head(50)\n",
        "\n",
        "#IT WORKS - when country changes from Afghanistan to Angola, records NaN for change in population, phones, and phones per person!\n",
        "#hallelujah.\n"
      ],
      "execution_count": 317,
      "outputs": [
        {
          "output_type": "stream",
          "text": [
            "195\n",
            "184\n"
          ],
          "name": "stdout"
        }
      ]
    },
    {
      "cell_type": "code",
      "metadata": {
        "colab": {
          "base_uri": "https://localhost:8080/",
          "height": 1000
        },
        "id": "IWH9q1XHuJQj",
        "outputId": "4668094c-44c9-4f82-d77f-114d36314852"
      },
      "source": [
        "#want to graph what I found\n",
        "import matplotlib.pyplot as plt\n",
        "import numpy as np\n",
        "\n",
        "fig, ax = plt.subplots(3, figsize = (8,8))\n",
        "plt.subplots_adjust(left=0.125, bottom=0.1, right=0.9, top=2, wspace=0.2, hspace=0.2) #adding space\n",
        "\n",
        "#graphing how phones and population have changed over time\n",
        "ax[0].plot(new_geo_us['time'], new_geo_us['population_total']/1e6, c = 'b', label = 'Population')\n",
        "ax[0].set_xlabel('Year')\n",
        "ax[0].set_ylabel('Number in Millions')\n",
        "ax[0].set_title('US Population and Phones')\n",
        "\n",
        "ax[0].plot(new_geo_us['time'], new_geo_us['cell_phones_total']/1e6, c = 'r', label = 'Cell Phones')\n",
        "ax[0].legend()\n",
        "\n",
        "#graphing phones per person over time\n",
        "ax[1].plot(new_geo_us['time'], new_geo_us['phones_per_person'])\n",
        "ax[1].set_xlabel('Year')\n",
        "ax[1].set_ylabel('Phones Per Person')\n",
        "ax[1].set_title('Phones Per Person in US')\n",
        "\n",
        "#graphing annual change in phones per person\n",
        "ax[2].plot(new_geo_us['time'], new_geo_us['change_in_phones_per_person'])\n",
        "ax[2].set_xlabel('Year')\n",
        "ax[2].set_ylabel('Change in Phones Per Person')\n",
        "ax[2].set_title('Annual Change in Phones Per Person')"
      ],
      "execution_count": 356,
      "outputs": [
        {
          "output_type": "execute_result",
          "data": {
            "text/plain": [
              "Text(0.5, 1.0, 'Annual Change in Phones Per Person')"
            ]
          },
          "metadata": {
            "tags": []
          },
          "execution_count": 356
        },
        {
          "output_type": "display_data",
          "data": {
            "image/png": "[encoded data removed]",
            "text/plain": [
              "<Figure size 576x576 with 3 Axes>"
            ]
          },
          "metadata": {
            "tags": [],
            "needs_background": "light"
          }
        }
      ]
    }
  ]
}